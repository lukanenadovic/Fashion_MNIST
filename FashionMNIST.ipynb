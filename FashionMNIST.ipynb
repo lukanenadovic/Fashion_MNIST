{
  "nbformat": 4,
  "nbformat_minor": 0,
  "metadata": {
    "colab": {
      "name": "FashionMNIST.ipynb",
      "provenance": [],
      "collapsed_sections": []
    },
    "kernelspec": {
      "name": "python3",
      "display_name": "Python 3"
    },
    "accelerator": "GPU"
  },
  "cells": [
    {
      "cell_type": "markdown",
      "metadata": {
        "id": "-fOxGp-OCBnd",
        "colab_type": "text"
      },
      "source": [
        "# Fashin MNIST classification with CNN - Tensorflow 2.1 with Keras"
      ]
    },
    {
      "cell_type": "markdown",
      "metadata": {
        "id": "RKJhd8WiCSjE",
        "colab_type": "text"
      },
      "source": [
        "## Import libraries"
      ]
    },
    {
      "cell_type": "code",
      "metadata": {
        "id": "lhMbMDnViJzx",
        "colab_type": "code",
        "outputId": "91bb2e62-8af3-44ef-91a0-ee6e5728dc63",
        "colab": {
          "base_uri": "https://localhost:8080/",
          "height": 52
        }
      },
      "source": [
        "import numpy as np\n",
        "import pandas as pd \n",
        "import matplotlib.pyplot as plt\n",
        "%tensorflow_version 2.x\n",
        "import tensorflow as tf\n",
        "print('Tensorflow version: ', tf.__version__)\n",
        "from tensorflow.keras.layers import Input, Dense, Conv2D, Flatten, Dropout, MaxPooling2D, BatchNormalization\n",
        "from tensorflow.keras.models import Model\n",
        "from tensorflow.keras.optimizers import Adam\n",
        "from tensorflow.keras import regularizers"
      ],
      "execution_count": 1,
      "outputs": [
        {
          "output_type": "stream",
          "text": [
            "TensorFlow 2.x selected.\n",
            "Tensorflow version:  2.1.0\n"
          ],
          "name": "stdout"
        }
      ]
    },
    {
      "cell_type": "markdown",
      "metadata": {
        "id": "zyw3jQIPCZcR",
        "colab_type": "text"
      },
      "source": [
        "## Import dataset"
      ]
    },
    {
      "cell_type": "code",
      "metadata": {
        "id": "BhM1jEbPLpXe",
        "colab_type": "code",
        "outputId": "1a5aacd3-d54f-4805-977f-88557a7a0a76",
        "colab": {
          "base_uri": "https://localhost:8080/",
          "height": 176
        }
      },
      "source": [
        "dataset = tf.keras.datasets.fashion_mnist\n",
        "(X_train, y_train), (X_test, y_test) = dataset.load_data()\n",
        "X_train, X_test = X_train / 255., X_test / 255.\n",
        "print(X_train.shape, y_train.shape, X_test.shape, y_test.shape)"
      ],
      "execution_count": 2,
      "outputs": [
        {
          "output_type": "stream",
          "text": [
            "Downloading data from https://storage.googleapis.com/tensorflow/tf-keras-datasets/train-labels-idx1-ubyte.gz\n",
            "32768/29515 [=================================] - 0s 0us/step\n",
            "Downloading data from https://storage.googleapis.com/tensorflow/tf-keras-datasets/train-images-idx3-ubyte.gz\n",
            "26427392/26421880 [==============================] - 0s 0us/step\n",
            "Downloading data from https://storage.googleapis.com/tensorflow/tf-keras-datasets/t10k-labels-idx1-ubyte.gz\n",
            "8192/5148 [===============================================] - 0s 0us/step\n",
            "Downloading data from https://storage.googleapis.com/tensorflow/tf-keras-datasets/t10k-images-idx3-ubyte.gz\n",
            "4423680/4422102 [==============================] - 0s 0us/step\n",
            "(60000, 28, 28) (60000,) (10000, 28, 28) (10000,)\n"
          ],
          "name": "stdout"
        }
      ]
    },
    {
      "cell_type": "code",
      "metadata": {
        "id": "w3EEpCCBjKYx",
        "colab_type": "code",
        "outputId": "618f9b67-63d1-41bf-a0de-bded996b93a4",
        "colab": {
          "base_uri": "https://localhost:8080/",
          "height": 52
        }
      },
      "source": [
        "X_train, X_test = np.expand_dims(X_train, -1), np.expand_dims(X_test, -1)\n",
        "num_classes = len(set(y_train))\n",
        "print('Number of classes:', num_classes)\n",
        "print(X_train.shape, X_test.shape)"
      ],
      "execution_count": 3,
      "outputs": [
        {
          "output_type": "stream",
          "text": [
            "Number of classes: 10\n",
            "(60000, 28, 28, 1) (10000, 28, 28, 1)\n"
          ],
          "name": "stdout"
        }
      ]
    },
    {
      "cell_type": "markdown",
      "metadata": {
        "id": "NAygVoQCCfEN",
        "colab_type": "text"
      },
      "source": [
        "## Baseline Model"
      ]
    },
    {
      "cell_type": "code",
      "metadata": {
        "id": "JW-71NzNCJbH",
        "colab_type": "code",
        "colab": {}
      },
      "source": [
        "llambda = 0.001\n",
        "L2 = regularizers.l2(llambda)"
      ],
      "execution_count": 0,
      "outputs": []
    },
    {
      "cell_type": "code",
      "metadata": {
        "id": "dOGyrhXDl2Sz",
        "colab_type": "code",
        "outputId": "3db0a947-5161-47f7-f0f4-1248c08bf64e",
        "colab": {
          "base_uri": "https://localhost:8080/",
          "height": 763
        }
      },
      "source": [
        "i = Input(X_train[0].shape)\n",
        "out = Conv2D(filters = 32, kernel_size = (3, 3), activation = 'relu', padding = 'same', kernel_regularizer = L2)(i) \n",
        "out = BatchNormalization()(out)\n",
        "out = Conv2D(filters = 32, kernel_size = (3, 3), activation = 'relu', padding = 'same', kernel_regularizer = L2)(out)\n",
        "out = BatchNormalization()(out)\n",
        "out = MaxPooling2D((2, 2))(out)\n",
        "out = Dropout(0.4)(out) \n",
        "\n",
        "out = Conv2D(filters = 64, kernel_size = (3, 3), activation = 'relu', padding = 'same', kernel_regularizer = L2)(out) \n",
        "out = BatchNormalization()(out)\n",
        "out = Conv2D(filters = 64, kernel_size = (3, 3), activation = 'relu', padding = 'same', kernel_regularizer = L2)(out) \n",
        "out = BatchNormalization()(out)\n",
        "out = MaxPooling2D((2, 2))(out)\n",
        "out = Dropout(0.4)(out) \n",
        "\n",
        "out = Flatten()(out)\n",
        "\n",
        "out = Dense(512, activation = 'relu')(out)\n",
        "out = Dropout(0.5)(out)\n",
        "\n",
        "out = Dense(num_classes, activation = 'softmax', kernel_regularizer = L2)(out)\n",
        "\n",
        "model = Model(i, out)\n",
        "model.summary()"
      ],
      "execution_count": 16,
      "outputs": [
        {
          "output_type": "stream",
          "text": [
            "Model: \"model_1\"\n",
            "_________________________________________________________________\n",
            "Layer (type)                 Output Shape              Param #   \n",
            "=================================================================\n",
            "input_2 (InputLayer)         [(None, 28, 28, 1)]       0         \n",
            "_________________________________________________________________\n",
            "conv2d_4 (Conv2D)            (None, 28, 28, 32)        320       \n",
            "_________________________________________________________________\n",
            "batch_normalization_4 (Batch (None, 28, 28, 32)        128       \n",
            "_________________________________________________________________\n",
            "conv2d_5 (Conv2D)            (None, 28, 28, 32)        9248      \n",
            "_________________________________________________________________\n",
            "batch_normalization_5 (Batch (None, 28, 28, 32)        128       \n",
            "_________________________________________________________________\n",
            "max_pooling2d_2 (MaxPooling2 (None, 14, 14, 32)        0         \n",
            "_________________________________________________________________\n",
            "dropout_3 (Dropout)          (None, 14, 14, 32)        0         \n",
            "_________________________________________________________________\n",
            "conv2d_6 (Conv2D)            (None, 14, 14, 64)        18496     \n",
            "_________________________________________________________________\n",
            "batch_normalization_6 (Batch (None, 14, 14, 64)        256       \n",
            "_________________________________________________________________\n",
            "conv2d_7 (Conv2D)            (None, 14, 14, 64)        36928     \n",
            "_________________________________________________________________\n",
            "batch_normalization_7 (Batch (None, 14, 14, 64)        256       \n",
            "_________________________________________________________________\n",
            "max_pooling2d_3 (MaxPooling2 (None, 7, 7, 64)          0         \n",
            "_________________________________________________________________\n",
            "dropout_4 (Dropout)          (None, 7, 7, 64)          0         \n",
            "_________________________________________________________________\n",
            "flatten_1 (Flatten)          (None, 3136)              0         \n",
            "_________________________________________________________________\n",
            "dense_2 (Dense)              (None, 512)               1606144   \n",
            "_________________________________________________________________\n",
            "dropout_5 (Dropout)          (None, 512)               0         \n",
            "_________________________________________________________________\n",
            "dense_3 (Dense)              (None, 10)                5130      \n",
            "=================================================================\n",
            "Total params: 1,677,034\n",
            "Trainable params: 1,676,650\n",
            "Non-trainable params: 384\n",
            "_________________________________________________________________\n"
          ],
          "name": "stdout"
        }
      ]
    },
    {
      "cell_type": "code",
      "metadata": {
        "id": "X1ulJON6pLX4",
        "colab_type": "code",
        "colab": {}
      },
      "source": [
        "adam = Adam(lr=0.0001, decay=1e-6)\n",
        "model.compile(optimizer = adam, loss = 'sparse_categorical_crossentropy', metrics = ['accuracy'])"
      ],
      "execution_count": 0,
      "outputs": []
    },
    {
      "cell_type": "code",
      "metadata": {
        "id": "g_MLYSnwC2Nk",
        "colab_type": "code",
        "colab": {
          "base_uri": "https://localhost:8080/",
          "height": 1000
        },
        "outputId": "eaffc121-b12e-45b1-8640-adecdc167e73"
      },
      "source": [
        "%%time\n",
        "r = model.fit(X_train, y_train, validation_data = (X_test, y_test), epochs = 50)"
      ],
      "execution_count": 7,
      "outputs": [
        {
          "output_type": "stream",
          "text": [
            "Train on 60000 samples, validate on 10000 samples\n",
            "Epoch 1/50\n",
            "60000/60000 [==============================] - 16s 273us/sample - loss: 0.9481 - accuracy: 0.7335 - val_loss: 0.5861 - val_accuracy: 0.8407\n",
            "Epoch 2/50\n",
            "60000/60000 [==============================] - 9s 155us/sample - loss: 0.6101 - accuracy: 0.8301 - val_loss: 0.4969 - val_accuracy: 0.8779\n",
            "Epoch 3/50\n",
            "60000/60000 [==============================] - 9s 154us/sample - loss: 0.5252 - accuracy: 0.8602 - val_loss: 0.4508 - val_accuracy: 0.8885\n",
            "Epoch 4/50\n",
            "60000/60000 [==============================] - 9s 155us/sample - loss: 0.4714 - accuracy: 0.8774 - val_loss: 0.4134 - val_accuracy: 0.8970\n",
            "Epoch 5/50\n",
            "60000/60000 [==============================] - 9s 156us/sample - loss: 0.4308 - accuracy: 0.8883 - val_loss: 0.3903 - val_accuracy: 0.9054\n",
            "Epoch 6/50\n",
            "60000/60000 [==============================] - 9s 158us/sample - loss: 0.4012 - accuracy: 0.8970 - val_loss: 0.3696 - val_accuracy: 0.9090\n",
            "Epoch 7/50\n",
            "60000/60000 [==============================] - 10s 160us/sample - loss: 0.3755 - accuracy: 0.9031 - val_loss: 0.3439 - val_accuracy: 0.9164\n",
            "Epoch 8/50\n",
            "60000/60000 [==============================] - 9s 152us/sample - loss: 0.3506 - accuracy: 0.9093 - val_loss: 0.3375 - val_accuracy: 0.9177\n",
            "Epoch 9/50\n",
            "60000/60000 [==============================] - 9s 154us/sample - loss: 0.3319 - accuracy: 0.9143 - val_loss: 0.3247 - val_accuracy: 0.9185\n",
            "Epoch 10/50\n",
            "60000/60000 [==============================] - 9s 158us/sample - loss: 0.3187 - accuracy: 0.9182 - val_loss: 0.3020 - val_accuracy: 0.9269\n",
            "Epoch 11/50\n",
            "60000/60000 [==============================] - 9s 155us/sample - loss: 0.3031 - accuracy: 0.9208 - val_loss: 0.3016 - val_accuracy: 0.9247\n",
            "Epoch 12/50\n",
            "60000/60000 [==============================] - 9s 151us/sample - loss: 0.2893 - accuracy: 0.9245 - val_loss: 0.2860 - val_accuracy: 0.9285\n",
            "Epoch 13/50\n",
            "60000/60000 [==============================] - 10s 159us/sample - loss: 0.2809 - accuracy: 0.9267 - val_loss: 0.2827 - val_accuracy: 0.9277\n",
            "Epoch 14/50\n",
            "60000/60000 [==============================] - 9s 153us/sample - loss: 0.2673 - accuracy: 0.9297 - val_loss: 0.2799 - val_accuracy: 0.9267\n",
            "Epoch 15/50\n",
            "60000/60000 [==============================] - 9s 154us/sample - loss: 0.2585 - accuracy: 0.9305 - val_loss: 0.2743 - val_accuracy: 0.9304\n",
            "Epoch 16/50\n",
            "60000/60000 [==============================] - 9s 156us/sample - loss: 0.2513 - accuracy: 0.9331 - val_loss: 0.2585 - val_accuracy: 0.9324\n",
            "Epoch 17/50\n",
            "60000/60000 [==============================] - 9s 152us/sample - loss: 0.2392 - accuracy: 0.9360 - val_loss: 0.2571 - val_accuracy: 0.9336\n",
            "Epoch 18/50\n",
            "60000/60000 [==============================] - 9s 153us/sample - loss: 0.2320 - accuracy: 0.9367 - val_loss: 0.2518 - val_accuracy: 0.9327\n",
            "Epoch 19/50\n",
            "60000/60000 [==============================] - 9s 154us/sample - loss: 0.2266 - accuracy: 0.9386 - val_loss: 0.2489 - val_accuracy: 0.9341\n",
            "Epoch 20/50\n",
            "60000/60000 [==============================] - 9s 154us/sample - loss: 0.2186 - accuracy: 0.9412 - val_loss: 0.2601 - val_accuracy: 0.9305\n",
            "Epoch 21/50\n",
            "60000/60000 [==============================] - 9s 152us/sample - loss: 0.2135 - accuracy: 0.9425 - val_loss: 0.2397 - val_accuracy: 0.9381\n",
            "Epoch 22/50\n",
            "60000/60000 [==============================] - 9s 155us/sample - loss: 0.2077 - accuracy: 0.9436 - val_loss: 0.2478 - val_accuracy: 0.9332\n",
            "Epoch 23/50\n",
            "60000/60000 [==============================] - 9s 155us/sample - loss: 0.2021 - accuracy: 0.9446 - val_loss: 0.2364 - val_accuracy: 0.9368\n",
            "Epoch 24/50\n",
            "60000/60000 [==============================] - 9s 154us/sample - loss: 0.1971 - accuracy: 0.9462 - val_loss: 0.2418 - val_accuracy: 0.9377\n",
            "Epoch 25/50\n",
            "60000/60000 [==============================] - 9s 152us/sample - loss: 0.1935 - accuracy: 0.9480 - val_loss: 0.2311 - val_accuracy: 0.9392\n",
            "Epoch 26/50\n",
            "60000/60000 [==============================] - 9s 156us/sample - loss: 0.1876 - accuracy: 0.9490 - val_loss: 0.2282 - val_accuracy: 0.9395\n",
            "Epoch 27/50\n",
            "60000/60000 [==============================] - 9s 153us/sample - loss: 0.1843 - accuracy: 0.9501 - val_loss: 0.2223 - val_accuracy: 0.9404\n",
            "Epoch 28/50\n",
            "60000/60000 [==============================] - 9s 155us/sample - loss: 0.1805 - accuracy: 0.9505 - val_loss: 0.2386 - val_accuracy: 0.9366\n",
            "Epoch 29/50\n",
            "60000/60000 [==============================] - 9s 155us/sample - loss: 0.1735 - accuracy: 0.9535 - val_loss: 0.2378 - val_accuracy: 0.9378\n",
            "Epoch 30/50\n",
            "60000/60000 [==============================] - 9s 154us/sample - loss: 0.1737 - accuracy: 0.9527 - val_loss: 0.2177 - val_accuracy: 0.9434\n",
            "Epoch 31/50\n",
            "60000/60000 [==============================] - 9s 153us/sample - loss: 0.1669 - accuracy: 0.9540 - val_loss: 0.2212 - val_accuracy: 0.9411\n",
            "Epoch 32/50\n",
            "60000/60000 [==============================] - 9s 153us/sample - loss: 0.1647 - accuracy: 0.9558 - val_loss: 0.2216 - val_accuracy: 0.9424\n",
            "Epoch 33/50\n",
            "60000/60000 [==============================] - 9s 154us/sample - loss: 0.1623 - accuracy: 0.9559 - val_loss: 0.2177 - val_accuracy: 0.9432\n",
            "Epoch 34/50\n",
            "60000/60000 [==============================] - 9s 152us/sample - loss: 0.1558 - accuracy: 0.9580 - val_loss: 0.2227 - val_accuracy: 0.9399\n",
            "Epoch 35/50\n",
            "60000/60000 [==============================] - 9s 154us/sample - loss: 0.1558 - accuracy: 0.9578 - val_loss: 0.2245 - val_accuracy: 0.9415\n",
            "Epoch 36/50\n",
            "60000/60000 [==============================] - 9s 157us/sample - loss: 0.1527 - accuracy: 0.9588 - val_loss: 0.2220 - val_accuracy: 0.9420\n",
            "Epoch 37/50\n",
            "60000/60000 [==============================] - 9s 151us/sample - loss: 0.1483 - accuracy: 0.9604 - val_loss: 0.2214 - val_accuracy: 0.9418\n",
            "Epoch 38/50\n",
            "60000/60000 [==============================] - 9s 150us/sample - loss: 0.1487 - accuracy: 0.9603 - val_loss: 0.2253 - val_accuracy: 0.9423\n",
            "Epoch 39/50\n",
            "60000/60000 [==============================] - 9s 156us/sample - loss: 0.1453 - accuracy: 0.9611 - val_loss: 0.2194 - val_accuracy: 0.9412\n",
            "Epoch 40/50\n",
            "60000/60000 [==============================] - 10s 159us/sample - loss: 0.1425 - accuracy: 0.9622 - val_loss: 0.2212 - val_accuracy: 0.9440\n",
            "Epoch 41/50\n",
            "60000/60000 [==============================] - 9s 156us/sample - loss: 0.1389 - accuracy: 0.9631 - val_loss: 0.2275 - val_accuracy: 0.9431\n",
            "Epoch 42/50\n",
            "60000/60000 [==============================] - 9s 156us/sample - loss: 0.1382 - accuracy: 0.9628 - val_loss: 0.2211 - val_accuracy: 0.9421\n",
            "Epoch 43/50\n",
            "60000/60000 [==============================] - 9s 151us/sample - loss: 0.1377 - accuracy: 0.9631 - val_loss: 0.2274 - val_accuracy: 0.9422\n",
            "Epoch 44/50\n",
            "60000/60000 [==============================] - 9s 152us/sample - loss: 0.1365 - accuracy: 0.9634 - val_loss: 0.2206 - val_accuracy: 0.9395\n",
            "Epoch 45/50\n",
            "60000/60000 [==============================] - 9s 154us/sample - loss: 0.1310 - accuracy: 0.9653 - val_loss: 0.2288 - val_accuracy: 0.9385\n",
            "Epoch 46/50\n",
            "60000/60000 [==============================] - 9s 156us/sample - loss: 0.1322 - accuracy: 0.9647 - val_loss: 0.2160 - val_accuracy: 0.9423\n",
            "Epoch 47/50\n",
            "60000/60000 [==============================] - 9s 152us/sample - loss: 0.1271 - accuracy: 0.9664 - val_loss: 0.2306 - val_accuracy: 0.9394\n",
            "Epoch 48/50\n",
            "60000/60000 [==============================] - 9s 154us/sample - loss: 0.1248 - accuracy: 0.9675 - val_loss: 0.2263 - val_accuracy: 0.9418\n",
            "Epoch 49/50\n",
            "60000/60000 [==============================] - 9s 156us/sample - loss: 0.1275 - accuracy: 0.9670 - val_loss: 0.2231 - val_accuracy: 0.9407\n",
            "Epoch 50/50\n",
            "60000/60000 [==============================] - 9s 153us/sample - loss: 0.1244 - accuracy: 0.9677 - val_loss: 0.2204 - val_accuracy: 0.9411\n",
            "CPU times: user 8min 18s, sys: 52.4 s, total: 9min 11s\n",
            "Wall time: 7min 50s\n"
          ],
          "name": "stdout"
        }
      ]
    },
    {
      "cell_type": "code",
      "metadata": {
        "id": "dAUjsKjpp4pV",
        "colab_type": "code",
        "colab": {
          "base_uri": "https://localhost:8080/",
          "height": 282
        },
        "outputId": "c9f5a4f3-e40e-4df6-a586-bf00accaf330"
      },
      "source": [
        "# 0.93337 wo dropout Conclusion: Better with dropout. Dropout rate = 0.2 - validation accuracy is 0.9401\n",
        "plt.plot(r.history['loss'], label = 'Training Loss')\n",
        "plt.plot(r.history['val_loss'], label = 'Validation Loss')\n",
        "plt.legend()"
      ],
      "execution_count": 8,
      "outputs": [
        {
          "output_type": "execute_result",
          "data": {
            "text/plain": [
              "<matplotlib.legend.Legend at 0x7f02683a4eb8>"
            ]
          },
          "metadata": {
            "tags": []
          },
          "execution_count": 8
        },
        {
          "output_type": "display_data",
          "data": {
            "image/png": "[encoded data removed]",
            "text/plain": [
              "<Figure size 432x288 with 1 Axes>"
            ]
          },
          "metadata": {
            "tags": []
          }
        }
      ]
    },
    {
      "cell_type": "code",
      "metadata": {
        "id": "-IIA_OzHurel",
        "colab_type": "code",
        "outputId": "c2c9f799-be6e-4d45-aa52-db058b135c74",
        "colab": {
          "base_uri": "https://localhost:8080/",
          "height": 282
        }
      },
      "source": [
        "plt.plot(r.history['accuracy'], label = 'Training Accuracy')\n",
        "plt.plot(r.history['val_accuracy'], label = 'Validation Accuracy')\n",
        "plt.legend()"
      ],
      "execution_count": 9,
      "outputs": [
        {
          "output_type": "execute_result",
          "data": {
            "text/plain": [
              "<matplotlib.legend.Legend at 0x7f0267e7ad68>"
            ]
          },
          "metadata": {
            "tags": []
          },
          "execution_count": 9
        },
        {
          "output_type": "display_data",
          "data": {
            "image/png": "[encoded data removed]",
            "text/plain": [
              "<Figure size 432x288 with 1 Axes>"
            ]
          },
          "metadata": {
            "tags": []
          }
        }
      ]
    },
    {
      "cell_type": "markdown",
      "metadata": {
        "id": "jMJE4EDSE5jC",
        "colab_type": "text"
      },
      "source": [
        "## Baseline model with data augmentation"
      ]
    },
    {
      "cell_type": "code",
      "metadata": {
        "id": "2Af7asM2wRgL",
        "colab_type": "code",
        "outputId": "6304f8ef-d202-453c-f28d-8dc8e1cafc55",
        "colab": {
          "base_uri": "https://localhost:8080/",
          "height": 1000
        }
      },
      "source": [
        "%%time\n",
        "BATCH_SIZE = 32\n",
        "train_data_generator = tf.keras.preprocessing.image.ImageDataGenerator(width_shift_range = 0.1,\n",
        "                                                                 height_shift_range = 0.1, \n",
        "                                                                 horizontal_flip = True,\n",
        "                                                                 #rotation_range=90,          \n",
        "                                                                 #shear_range=0.2,            \n",
        "                                                                 #zoom_range=0.1,               \n",
        "                                                                 #fill_mode='nearest'\n",
        "                                                                 )\n",
        "test_data_generator = tf.keras.preprocessing.image.ImageDataGenerator(width_shift_range = 0.1,\n",
        "                                                                 height_shift_range = 0.1,\n",
        "                                                                 horizontal_flip = True,\n",
        "                                                                 #rotation_range=90,          \n",
        "                                                                 #shear_range=0.2,            \n",
        "                                                                 #zoom_range=0.1,               \n",
        "                                                                 #fill_mode='nearest'\n",
        "                                                                 )\n",
        "train_generator = train_data_generator.flow(X_train, y_train, BATCH_SIZE)\n",
        "test_generator = test_data_generator.flow(X_test, y_test, BATCH_SIZE)\n",
        "STEPS = X_train.shape[0] // BATCH_SIZE\n",
        "#r = model.fit(train_generator, validation_data = (X_test, y_test), steps_per_epoch = STEPS, epochs = 100)\n",
        "r = model.fit(train_generator, validation_data = test_generator, steps_per_epoch = STEPS, epochs = 100)"
      ],
      "execution_count": 18,
      "outputs": [
        {
          "output_type": "stream",
          "text": [
            "WARNING:tensorflow:sample_weight modes were coerced from\n",
            "  ...\n",
            "    to  \n",
            "  ['...']\n",
            "WARNING:tensorflow:sample_weight modes were coerced from\n",
            "  ...\n",
            "    to  \n",
            "  ['...']\n",
            "Train for 1875 steps, validate for 313 steps\n",
            "Epoch 1/100\n",
            "1875/1875 [==============================] - 21s 11ms/step - loss: 1.1794 - accuracy: 0.6491 - val_loss: 0.7535 - val_accuracy: 0.7696\n",
            "Epoch 2/100\n",
            "1875/1875 [==============================] - 20s 11ms/step - loss: 0.7908 - accuracy: 0.7586 - val_loss: 0.6500 - val_accuracy: 0.8087\n",
            "Epoch 3/100\n",
            "1875/1875 [==============================] - 20s 10ms/step - loss: 0.6902 - accuracy: 0.7944 - val_loss: 0.5896 - val_accuracy: 0.8332\n",
            "Epoch 4/100\n",
            "1875/1875 [==============================] - 20s 11ms/step - loss: 0.6174 - accuracy: 0.8193 - val_loss: 0.5551 - val_accuracy: 0.8478\n",
            "Epoch 5/100\n",
            "1875/1875 [==============================] - 20s 11ms/step - loss: 0.5711 - accuracy: 0.8346 - val_loss: 0.5055 - val_accuracy: 0.8590\n",
            "Epoch 6/100\n",
            "1875/1875 [==============================] - 19s 10ms/step - loss: 0.5343 - accuracy: 0.8457 - val_loss: 0.4598 - val_accuracy: 0.8698\n",
            "Epoch 7/100\n",
            "1875/1875 [==============================] - 20s 11ms/step - loss: 0.5001 - accuracy: 0.8559 - val_loss: 0.4465 - val_accuracy: 0.8785\n",
            "Epoch 8/100\n",
            "1875/1875 [==============================] - 20s 11ms/step - loss: 0.4787 - accuracy: 0.8627 - val_loss: 0.4123 - val_accuracy: 0.8880\n",
            "Epoch 9/100\n",
            "1875/1875 [==============================] - 20s 10ms/step - loss: 0.4616 - accuracy: 0.8666 - val_loss: 0.4040 - val_accuracy: 0.8862\n",
            "Epoch 10/100\n",
            "1875/1875 [==============================] - 20s 11ms/step - loss: 0.4434 - accuracy: 0.8720 - val_loss: 0.4239 - val_accuracy: 0.8789\n",
            "Epoch 11/100\n",
            "1875/1875 [==============================] - 20s 11ms/step - loss: 0.4256 - accuracy: 0.8753 - val_loss: 0.3928 - val_accuracy: 0.8921\n",
            "Epoch 12/100\n",
            "1875/1875 [==============================] - 19s 10ms/step - loss: 0.4151 - accuracy: 0.8795 - val_loss: 0.3775 - val_accuracy: 0.8943\n",
            "Epoch 13/100\n",
            "1875/1875 [==============================] - 20s 11ms/step - loss: 0.4014 - accuracy: 0.8820 - val_loss: 0.3685 - val_accuracy: 0.8971\n",
            "Epoch 14/100\n",
            "1875/1875 [==============================] - 20s 11ms/step - loss: 0.3899 - accuracy: 0.8856 - val_loss: 0.3548 - val_accuracy: 0.9023\n",
            "Epoch 15/100\n",
            "1875/1875 [==============================] - 20s 10ms/step - loss: 0.3797 - accuracy: 0.8878 - val_loss: 0.3424 - val_accuracy: 0.9026\n",
            "Epoch 16/100\n",
            "1875/1875 [==============================] - 20s 11ms/step - loss: 0.3726 - accuracy: 0.8903 - val_loss: 0.3327 - val_accuracy: 0.9077\n",
            "Epoch 17/100\n",
            "1875/1875 [==============================] - 20s 11ms/step - loss: 0.3654 - accuracy: 0.8919 - val_loss: 0.3219 - val_accuracy: 0.9074\n",
            "Epoch 18/100\n",
            "1875/1875 [==============================] - 20s 10ms/step - loss: 0.3581 - accuracy: 0.8921 - val_loss: 0.3261 - val_accuracy: 0.9064\n",
            "Epoch 19/100\n",
            "1875/1875 [==============================] - 20s 11ms/step - loss: 0.3503 - accuracy: 0.8963 - val_loss: 0.3241 - val_accuracy: 0.9058\n",
            "Epoch 20/100\n",
            "1875/1875 [==============================] - 20s 11ms/step - loss: 0.3418 - accuracy: 0.8960 - val_loss: 0.3315 - val_accuracy: 0.9027\n",
            "Epoch 21/100\n",
            "1875/1875 [==============================] - 20s 11ms/step - loss: 0.3419 - accuracy: 0.8957 - val_loss: 0.3005 - val_accuracy: 0.9106\n",
            "Epoch 22/100\n",
            "1875/1875 [==============================] - 20s 11ms/step - loss: 0.3323 - accuracy: 0.8994 - val_loss: 0.3014 - val_accuracy: 0.9114\n",
            "Epoch 23/100\n",
            "1875/1875 [==============================] - 20s 11ms/step - loss: 0.3270 - accuracy: 0.9019 - val_loss: 0.2911 - val_accuracy: 0.9136\n",
            "Epoch 24/100\n",
            "1875/1875 [==============================] - 20s 11ms/step - loss: 0.3237 - accuracy: 0.9020 - val_loss: 0.3022 - val_accuracy: 0.9084\n",
            "Epoch 25/100\n",
            "1875/1875 [==============================] - 20s 11ms/step - loss: 0.3186 - accuracy: 0.9043 - val_loss: 0.3081 - val_accuracy: 0.9071\n",
            "Epoch 26/100\n",
            "1875/1875 [==============================] - 20s 11ms/step - loss: 0.3143 - accuracy: 0.9039 - val_loss: 0.2882 - val_accuracy: 0.9142\n",
            "Epoch 27/100\n",
            "1875/1875 [==============================] - 20s 10ms/step - loss: 0.3124 - accuracy: 0.9047 - val_loss: 0.2861 - val_accuracy: 0.9145\n",
            "Epoch 28/100\n",
            "1875/1875 [==============================] - 20s 11ms/step - loss: 0.3077 - accuracy: 0.9071 - val_loss: 0.2854 - val_accuracy: 0.9121\n",
            "Epoch 29/100\n",
            "1875/1875 [==============================] - 20s 11ms/step - loss: 0.3041 - accuracy: 0.9071 - val_loss: 0.2808 - val_accuracy: 0.9170\n",
            "Epoch 30/100\n",
            "1875/1875 [==============================] - 20s 11ms/step - loss: 0.2987 - accuracy: 0.9076 - val_loss: 0.2716 - val_accuracy: 0.9192\n",
            "Epoch 31/100\n",
            "1875/1875 [==============================] - 20s 11ms/step - loss: 0.2967 - accuracy: 0.9096 - val_loss: 0.2804 - val_accuracy: 0.9165\n",
            "Epoch 32/100\n",
            "1875/1875 [==============================] - 20s 11ms/step - loss: 0.2959 - accuracy: 0.9084 - val_loss: 0.2690 - val_accuracy: 0.9203\n",
            "Epoch 33/100\n",
            "1875/1875 [==============================] - 20s 10ms/step - loss: 0.2907 - accuracy: 0.9096 - val_loss: 0.2730 - val_accuracy: 0.9166\n",
            "Epoch 34/100\n",
            "1875/1875 [==============================] - 20s 11ms/step - loss: 0.2868 - accuracy: 0.9115 - val_loss: 0.2653 - val_accuracy: 0.9194\n",
            "Epoch 35/100\n",
            "1875/1875 [==============================] - 20s 11ms/step - loss: 0.2846 - accuracy: 0.9123 - val_loss: 0.2653 - val_accuracy: 0.9200\n",
            "Epoch 36/100\n",
            "1875/1875 [==============================] - 20s 11ms/step - loss: 0.2816 - accuracy: 0.9128 - val_loss: 0.2647 - val_accuracy: 0.9192\n",
            "Epoch 37/100\n",
            "1875/1875 [==============================] - 20s 11ms/step - loss: 0.2812 - accuracy: 0.9125 - val_loss: 0.2565 - val_accuracy: 0.9235\n",
            "Epoch 38/100\n",
            "1875/1875 [==============================] - 20s 11ms/step - loss: 0.2798 - accuracy: 0.9131 - val_loss: 0.2598 - val_accuracy: 0.9220\n",
            "Epoch 39/100\n",
            "1875/1875 [==============================] - 20s 10ms/step - loss: 0.2750 - accuracy: 0.9144 - val_loss: 0.2675 - val_accuracy: 0.9159\n",
            "Epoch 40/100\n",
            "1875/1875 [==============================] - 20s 11ms/step - loss: 0.2772 - accuracy: 0.9133 - val_loss: 0.2560 - val_accuracy: 0.9216\n",
            "Epoch 41/100\n",
            "1875/1875 [==============================] - 20s 11ms/step - loss: 0.2716 - accuracy: 0.9152 - val_loss: 0.2544 - val_accuracy: 0.9205\n",
            "Epoch 42/100\n",
            "1875/1875 [==============================] - 20s 11ms/step - loss: 0.2710 - accuracy: 0.9154 - val_loss: 0.2570 - val_accuracy: 0.9214\n",
            "Epoch 43/100\n",
            "1875/1875 [==============================] - 20s 11ms/step - loss: 0.2689 - accuracy: 0.9168 - val_loss: 0.2530 - val_accuracy: 0.9259\n",
            "Epoch 44/100\n",
            "1875/1875 [==============================] - 20s 11ms/step - loss: 0.2650 - accuracy: 0.9171 - val_loss: 0.2561 - val_accuracy: 0.9218\n",
            "Epoch 45/100\n",
            "1875/1875 [==============================] - 19s 10ms/step - loss: 0.2654 - accuracy: 0.9166 - val_loss: 0.2423 - val_accuracy: 0.9267\n",
            "Epoch 46/100\n",
            "1875/1875 [==============================] - 20s 11ms/step - loss: 0.2638 - accuracy: 0.9190 - val_loss: 0.2480 - val_accuracy: 0.9252\n",
            "Epoch 47/100\n",
            "1875/1875 [==============================] - 20s 11ms/step - loss: 0.2657 - accuracy: 0.9170 - val_loss: 0.2500 - val_accuracy: 0.9225\n",
            "Epoch 48/100\n",
            "1875/1875 [==============================] - 20s 10ms/step - loss: 0.2603 - accuracy: 0.9194 - val_loss: 0.2514 - val_accuracy: 0.9204\n",
            "Epoch 49/100\n",
            "1875/1875 [==============================] - 20s 11ms/step - loss: 0.2580 - accuracy: 0.9182 - val_loss: 0.2513 - val_accuracy: 0.9243\n",
            "Epoch 50/100\n",
            "1875/1875 [==============================] - 20s 11ms/step - loss: 0.2572 - accuracy: 0.9195 - val_loss: 0.2505 - val_accuracy: 0.9211\n",
            "Epoch 51/100\n",
            "1875/1875 [==============================] - 20s 11ms/step - loss: 0.2604 - accuracy: 0.9176 - val_loss: 0.2448 - val_accuracy: 0.9228\n",
            "Epoch 52/100\n",
            "1875/1875 [==============================] - 20s 11ms/step - loss: 0.2565 - accuracy: 0.9194 - val_loss: 0.2497 - val_accuracy: 0.9243\n",
            "Epoch 53/100\n",
            "1875/1875 [==============================] - 20s 11ms/step - loss: 0.2545 - accuracy: 0.9202 - val_loss: 0.2427 - val_accuracy: 0.9284\n",
            "Epoch 54/100\n",
            "1875/1875 [==============================] - 20s 10ms/step - loss: 0.2539 - accuracy: 0.9201 - val_loss: 0.2387 - val_accuracy: 0.9281\n",
            "Epoch 55/100\n",
            "1875/1875 [==============================] - 20s 11ms/step - loss: 0.2522 - accuracy: 0.9205 - val_loss: 0.2468 - val_accuracy: 0.9217\n",
            "Epoch 56/100\n",
            "1875/1875 [==============================] - 20s 11ms/step - loss: 0.2500 - accuracy: 0.9216 - val_loss: 0.2494 - val_accuracy: 0.9204\n",
            "Epoch 57/100\n",
            "1875/1875 [==============================] - 20s 10ms/step - loss: 0.2501 - accuracy: 0.9225 - val_loss: 0.2406 - val_accuracy: 0.9275\n",
            "Epoch 58/100\n",
            "1875/1875 [==============================] - 20s 11ms/step - loss: 0.2493 - accuracy: 0.9227 - val_loss: 0.2364 - val_accuracy: 0.9246\n",
            "Epoch 59/100\n",
            "1875/1875 [==============================] - 20s 11ms/step - loss: 0.2480 - accuracy: 0.9228 - val_loss: 0.2379 - val_accuracy: 0.9275\n",
            "Epoch 60/100\n",
            "1875/1875 [==============================] - 20s 10ms/step - loss: 0.2448 - accuracy: 0.9219 - val_loss: 0.2375 - val_accuracy: 0.9273\n",
            "Epoch 61/100\n",
            "1875/1875 [==============================] - 20s 11ms/step - loss: 0.2455 - accuracy: 0.9240 - val_loss: 0.2426 - val_accuracy: 0.9244\n",
            "Epoch 62/100\n",
            "1875/1875 [==============================] - 20s 11ms/step - loss: 0.2443 - accuracy: 0.9236 - val_loss: 0.2394 - val_accuracy: 0.9265\n",
            "Epoch 63/100\n",
            "1875/1875 [==============================] - 20s 10ms/step - loss: 0.2439 - accuracy: 0.9245 - val_loss: 0.2455 - val_accuracy: 0.9232\n",
            "Epoch 64/100\n",
            "1875/1875 [==============================] - 20s 11ms/step - loss: 0.2426 - accuracy: 0.9242 - val_loss: 0.2323 - val_accuracy: 0.9293\n",
            "Epoch 65/100\n",
            "1875/1875 [==============================] - 20s 11ms/step - loss: 0.2405 - accuracy: 0.9237 - val_loss: 0.2306 - val_accuracy: 0.9279\n",
            "Epoch 66/100\n",
            "1875/1875 [==============================] - 20s 11ms/step - loss: 0.2421 - accuracy: 0.9240 - val_loss: 0.2356 - val_accuracy: 0.9287\n",
            "Epoch 67/100\n",
            "1875/1875 [==============================] - 20s 11ms/step - loss: 0.2392 - accuracy: 0.9250 - val_loss: 0.2337 - val_accuracy: 0.9277\n",
            "Epoch 68/100\n",
            "1875/1875 [==============================] - 20s 11ms/step - loss: 0.2387 - accuracy: 0.9258 - val_loss: 0.2284 - val_accuracy: 0.9317\n",
            "Epoch 69/100\n",
            "1875/1875 [==============================] - 20s 10ms/step - loss: 0.2400 - accuracy: 0.9256 - val_loss: 0.2312 - val_accuracy: 0.9280\n",
            "Epoch 70/100\n",
            "1875/1875 [==============================] - 20s 11ms/step - loss: 0.2393 - accuracy: 0.9245 - val_loss: 0.2335 - val_accuracy: 0.9282\n",
            "Epoch 71/100\n",
            "1875/1875 [==============================] - 20s 11ms/step - loss: 0.2411 - accuracy: 0.9242 - val_loss: 0.2454 - val_accuracy: 0.9244\n",
            "Epoch 72/100\n",
            "1875/1875 [==============================] - 20s 11ms/step - loss: 0.2335 - accuracy: 0.9274 - val_loss: 0.2239 - val_accuracy: 0.9327\n",
            "Epoch 73/100\n",
            "1875/1875 [==============================] - 20s 11ms/step - loss: 0.2333 - accuracy: 0.9272 - val_loss: 0.2268 - val_accuracy: 0.9311\n",
            "Epoch 74/100\n",
            "1875/1875 [==============================] - 20s 11ms/step - loss: 0.2329 - accuracy: 0.9276 - val_loss: 0.2251 - val_accuracy: 0.9318\n",
            "Epoch 75/100\n",
            "1875/1875 [==============================] - 20s 11ms/step - loss: 0.2329 - accuracy: 0.9269 - val_loss: 0.2385 - val_accuracy: 0.9255\n",
            "Epoch 76/100\n",
            "1875/1875 [==============================] - 20s 11ms/step - loss: 0.2330 - accuracy: 0.9264 - val_loss: 0.2281 - val_accuracy: 0.9308\n",
            "Epoch 77/100\n",
            "1875/1875 [==============================] - 20s 11ms/step - loss: 0.2345 - accuracy: 0.9263 - val_loss: 0.2361 - val_accuracy: 0.9290\n",
            "Epoch 78/100\n",
            "1875/1875 [==============================] - 20s 11ms/step - loss: 0.2323 - accuracy: 0.9277 - val_loss: 0.2297 - val_accuracy: 0.9291\n",
            "Epoch 79/100\n",
            "1875/1875 [==============================] - 20s 11ms/step - loss: 0.2326 - accuracy: 0.9269 - val_loss: 0.2228 - val_accuracy: 0.9328\n",
            "Epoch 80/100\n",
            "1875/1875 [==============================] - 20s 11ms/step - loss: 0.2311 - accuracy: 0.9277 - val_loss: 0.2295 - val_accuracy: 0.9309\n",
            "Epoch 81/100\n",
            "1875/1875 [==============================] - 20s 11ms/step - loss: 0.2282 - accuracy: 0.9277 - val_loss: 0.2266 - val_accuracy: 0.9329\n",
            "Epoch 82/100\n",
            "1875/1875 [==============================] - 20s 11ms/step - loss: 0.2288 - accuracy: 0.9291 - val_loss: 0.2222 - val_accuracy: 0.9312\n",
            "Epoch 83/100\n",
            "1875/1875 [==============================] - 20s 11ms/step - loss: 0.2290 - accuracy: 0.9280 - val_loss: 0.2239 - val_accuracy: 0.9331\n",
            "Epoch 84/100\n",
            "1875/1875 [==============================] - 20s 11ms/step - loss: 0.2290 - accuracy: 0.9279 - val_loss: 0.2208 - val_accuracy: 0.9327\n",
            "Epoch 85/100\n",
            "1875/1875 [==============================] - 20s 11ms/step - loss: 0.2285 - accuracy: 0.9297 - val_loss: 0.2128 - val_accuracy: 0.9331\n",
            "Epoch 86/100\n",
            "1875/1875 [==============================] - 20s 11ms/step - loss: 0.2284 - accuracy: 0.9288 - val_loss: 0.2273 - val_accuracy: 0.9290\n",
            "Epoch 87/100\n",
            "1875/1875 [==============================] - 20s 11ms/step - loss: 0.2248 - accuracy: 0.9293 - val_loss: 0.2265 - val_accuracy: 0.9315\n",
            "Epoch 88/100\n",
            "1875/1875 [==============================] - 20s 11ms/step - loss: 0.2276 - accuracy: 0.9293 - val_loss: 0.2262 - val_accuracy: 0.9320\n",
            "Epoch 89/100\n",
            "1875/1875 [==============================] - 20s 11ms/step - loss: 0.2271 - accuracy: 0.9294 - val_loss: 0.2255 - val_accuracy: 0.9324\n",
            "Epoch 90/100\n",
            "1875/1875 [==============================] - 20s 11ms/step - loss: 0.2267 - accuracy: 0.9288 - val_loss: 0.2314 - val_accuracy: 0.9280\n",
            "Epoch 91/100\n",
            "1875/1875 [==============================] - 20s 11ms/step - loss: 0.2240 - accuracy: 0.9297 - val_loss: 0.2221 - val_accuracy: 0.9339\n",
            "Epoch 92/100\n",
            "1875/1875 [==============================] - 20s 11ms/step - loss: 0.2262 - accuracy: 0.9287 - val_loss: 0.2215 - val_accuracy: 0.9346\n",
            "Epoch 93/100\n",
            "1875/1875 [==============================] - 20s 11ms/step - loss: 0.2257 - accuracy: 0.9285 - val_loss: 0.2230 - val_accuracy: 0.9336\n",
            "Epoch 94/100\n",
            "1875/1875 [==============================] - 20s 11ms/step - loss: 0.2238 - accuracy: 0.9293 - val_loss: 0.2194 - val_accuracy: 0.9339\n",
            "Epoch 95/100\n",
            "1875/1875 [==============================] - 20s 11ms/step - loss: 0.2240 - accuracy: 0.9301 - val_loss: 0.2155 - val_accuracy: 0.9354\n",
            "Epoch 96/100\n",
            "1875/1875 [==============================] - 20s 11ms/step - loss: 0.2232 - accuracy: 0.9301 - val_loss: 0.2277 - val_accuracy: 0.9289\n",
            "Epoch 97/100\n",
            "1875/1875 [==============================] - 20s 11ms/step - loss: 0.2222 - accuracy: 0.9312 - val_loss: 0.2219 - val_accuracy: 0.9332\n",
            "Epoch 98/100\n",
            "1875/1875 [==============================] - 20s 11ms/step - loss: 0.2221 - accuracy: 0.9308 - val_loss: 0.2192 - val_accuracy: 0.9319\n",
            "Epoch 99/100\n",
            "1875/1875 [==============================] - 20s 11ms/step - loss: 0.2213 - accuracy: 0.9307 - val_loss: 0.2137 - val_accuracy: 0.9346\n",
            "Epoch 100/100\n",
            "1875/1875 [==============================] - 20s 11ms/step - loss: 0.2213 - accuracy: 0.9302 - val_loss: 0.2229 - val_accuracy: 0.9307\n",
            "CPU times: user 48min 13s, sys: 1min 45s, total: 49min 59s\n",
            "Wall time: 33min 14s\n"
          ],
          "name": "stdout"
        }
      ]
    },
    {
      "cell_type": "code",
      "metadata": {
        "id": "N_jbu_uuElB3",
        "colab_type": "code",
        "outputId": "1f470f1c-0225-462b-92a7-8d39858fb134",
        "colab": {
          "base_uri": "https://localhost:8080/",
          "height": 282
        }
      },
      "source": [
        "# Validation accuracy is 0.942 without dropout Conclusion: Here the dropout doesn't make significant difference. Val acc: 0.9417\n",
        "plt.plot(r.history['loss'], label = 'Training Loss')\n",
        "plt.plot(r.history['val_loss'], label = 'Validation Loss')\n",
        "plt.legend()"
      ],
      "execution_count": 19,
      "outputs": [
        {
          "output_type": "execute_result",
          "data": {
            "text/plain": [
              "<matplotlib.legend.Legend at 0x7f0266ccba20>"
            ]
          },
          "metadata": {
            "tags": []
          },
          "execution_count": 19
        },
        {
          "output_type": "display_data",
          "data": {
            "image/png": "[encoded data removed]",
            "text/plain": [
              "<Figure size 432x288 with 1 Axes>"
            ]
          },
          "metadata": {
            "tags": []
          }
        }
      ]
    },
    {
      "cell_type": "code",
      "metadata": {
        "id": "ODhVToTGEwFo",
        "colab_type": "code",
        "outputId": "127b82df-2a58-469c-cb8b-ef9e553be703",
        "colab": {
          "base_uri": "https://localhost:8080/",
          "height": 282
        }
      },
      "source": [
        "plt.plot(r.history['accuracy'], label = 'Training Accuracy')\n",
        "plt.plot(r.history['val_accuracy'], label = 'Validation Accuracy')\n",
        "plt.legend()"
      ],
      "execution_count": 20,
      "outputs": [
        {
          "output_type": "execute_result",
          "data": {
            "text/plain": [
              "<matplotlib.legend.Legend at 0x7f0266cb0fd0>"
            ]
          },
          "metadata": {
            "tags": []
          },
          "execution_count": 20
        },
        {
          "output_type": "display_data",
          "data": {
            "image/png": "[encoded data removed]",
            "text/plain": [
              "<Figure size 432x288 with 1 Axes>"
            ]
          },
          "metadata": {
            "tags": []
          }
        }
      ]
    },
    {
      "cell_type": "markdown",
      "metadata": {
        "id": "wz9w58u9yMBR",
        "colab_type": "text"
      },
      "source": [
        "## Model with 3 convolutional blocks"
      ]
    },
    {
      "cell_type": "code",
      "metadata": {
        "id": "Ya4lJDi3Exsa",
        "colab_type": "code",
        "colab": {}
      },
      "source": [
        "llambda = 0.01\n",
        "L2 = regularizers.l2(llambda)"
      ],
      "execution_count": 0,
      "outputs": []
    },
    {
      "cell_type": "code",
      "metadata": {
        "id": "XhpF2CWu86-8",
        "colab_type": "code",
        "colab": {
          "base_uri": "https://localhost:8080/",
          "height": 1000
        },
        "outputId": "5d7ce897-7c85-4720-8b6a-db4e69ab4f17"
      },
      "source": [
        "i = Input(X_train[0].shape)\n",
        "out = Conv2D(filters = 32, kernel_size = (3, 3), activation = 'relu', padding = 'same', kernel_regularizer = L2)(i)\n",
        "out = BatchNormalization()(out)\n",
        "out = Conv2D(filters = 32, kernel_size = (3, 3), activation = 'relu', padding = 'same', kernel_regularizer = L2)(out)\n",
        "out = BatchNormalization()(out)\n",
        "out = MaxPooling2D((2, 2))(out)\n",
        "out = Dropout(0.2)(out) \n",
        "\n",
        "out = Conv2D(filters = 64, kernel_size = (3, 3), activation = 'relu', padding = 'same', kernel_regularizer = L2)(out) \n",
        "out = BatchNormalization()(out)\n",
        "out = Conv2D(filters = 64, kernel_size = (3, 3), activation = 'relu', padding = 'same', kernel_regularizer = L2)(out) \n",
        "out = BatchNormalization()(out)\n",
        "out = MaxPooling2D((2, 2))(out)\n",
        "out = Dropout(0.4)(out) \n",
        "\n",
        "out = Conv2D(filters = 128, kernel_size = (3, 3), activation = 'relu', padding = 'same', kernel_regularizer = L2)(out)\n",
        "out = BatchNormalization()(out)\n",
        "out = Conv2D(filters = 128, kernel_size = (3, 3), activation = 'relu', padding = 'same', kernel_regularizer = L2)(out)\n",
        "out = BatchNormalization()(out)\n",
        "out = MaxPooling2D((2, 2))(out)\n",
        "out = Dropout(0.5)(out)\n",
        "\n",
        "out = Flatten()(out)\n",
        "out = Dropout(0.5)(out)\n",
        "\n",
        "#out = Dense(1024, activation = 'relu', kernel_regularizer = L2)(out)\n",
        "#out = Dropout(0.5)(out)\n",
        "\n",
        "out = Dense(512, activation = 'relu', kernel_regularizer = L2)(out)\n",
        "out = Dropout(0.5)(out)\n",
        "\n",
        "out = Dense(num_classes, activation = 'softmax', kernel_regularizer = L2)(out)\n",
        "\n",
        "model = Model(i, out)\n",
        "model.summary()"
      ],
      "execution_count": 41,
      "outputs": [
        {
          "output_type": "stream",
          "text": [
            "Model: \"model_4\"\n",
            "_________________________________________________________________\n",
            "Layer (type)                 Output Shape              Param #   \n",
            "=================================================================\n",
            "input_5 (InputLayer)         [(None, 28, 28, 1)]       0         \n",
            "_________________________________________________________________\n",
            "conv2d_20 (Conv2D)           (None, 28, 28, 32)        320       \n",
            "_________________________________________________________________\n",
            "batch_normalization_20 (Batc (None, 28, 28, 32)        128       \n",
            "_________________________________________________________________\n",
            "conv2d_21 (Conv2D)           (None, 28, 28, 32)        9248      \n",
            "_________________________________________________________________\n",
            "batch_normalization_21 (Batc (None, 28, 28, 32)        128       \n",
            "_________________________________________________________________\n",
            "max_pooling2d_10 (MaxPooling (None, 14, 14, 32)        0         \n",
            "_________________________________________________________________\n",
            "dropout_17 (Dropout)         (None, 14, 14, 32)        0         \n",
            "_________________________________________________________________\n",
            "conv2d_22 (Conv2D)           (None, 14, 14, 64)        18496     \n",
            "_________________________________________________________________\n",
            "batch_normalization_22 (Batc (None, 14, 14, 64)        256       \n",
            "_________________________________________________________________\n",
            "conv2d_23 (Conv2D)           (None, 14, 14, 64)        36928     \n",
            "_________________________________________________________________\n",
            "batch_normalization_23 (Batc (None, 14, 14, 64)        256       \n",
            "_________________________________________________________________\n",
            "max_pooling2d_11 (MaxPooling (None, 7, 7, 64)          0         \n",
            "_________________________________________________________________\n",
            "dropout_18 (Dropout)         (None, 7, 7, 64)          0         \n",
            "_________________________________________________________________\n",
            "conv2d_24 (Conv2D)           (None, 7, 7, 128)         73856     \n",
            "_________________________________________________________________\n",
            "batch_normalization_24 (Batc (None, 7, 7, 128)         512       \n",
            "_________________________________________________________________\n",
            "conv2d_25 (Conv2D)           (None, 7, 7, 128)         147584    \n",
            "_________________________________________________________________\n",
            "batch_normalization_25 (Batc (None, 7, 7, 128)         512       \n",
            "_________________________________________________________________\n",
            "max_pooling2d_12 (MaxPooling (None, 3, 3, 128)         0         \n",
            "_________________________________________________________________\n",
            "dropout_19 (Dropout)         (None, 3, 3, 128)         0         \n",
            "_________________________________________________________________\n",
            "flatten_4 (Flatten)          (None, 1152)              0         \n",
            "_________________________________________________________________\n",
            "dropout_20 (Dropout)         (None, 1152)              0         \n",
            "_________________________________________________________________\n",
            "dense_9 (Dense)              (None, 512)               590336    \n",
            "_________________________________________________________________\n",
            "dropout_21 (Dropout)         (None, 512)               0         \n",
            "_________________________________________________________________\n",
            "dense_10 (Dense)             (None, 10)                5130      \n",
            "=================================================================\n",
            "Total params: 883,690\n",
            "Trainable params: 882,794\n",
            "Non-trainable params: 896\n",
            "_________________________________________________________________\n"
          ],
          "name": "stdout"
        }
      ]
    },
    {
      "cell_type": "code",
      "metadata": {
        "id": "OLv-JPBz9Asx",
        "colab_type": "code",
        "colab": {}
      },
      "source": [
        "adam = Adam(lr=0.0001, decay=1e-6)\n",
        "model.compile(optimizer = adam, loss = 'sparse_categorical_crossentropy', metrics = ['accuracy'])"
      ],
      "execution_count": 0,
      "outputs": []
    },
    {
      "cell_type": "code",
      "metadata": {
        "id": "eHULAQLU9L27",
        "colab_type": "code",
        "colab": {
          "base_uri": "https://localhost:8080/",
          "height": 1000
        },
        "outputId": "b255d5dd-6fa4-47ec-8c9d-581a4c4fc17b"
      },
      "source": [
        "%%time\n",
        "r = model.fit(X_train, y_train, validation_data = (X_test, y_test), epochs = 50)"
      ],
      "execution_count": 33,
      "outputs": [
        {
          "output_type": "stream",
          "text": [
            "Train on 60000 samples, validate on 10000 samples\n",
            "Epoch 1/50\n",
            "60000/60000 [==============================] - 12s 208us/sample - loss: 11.3929 - accuracy: 0.5539 - val_loss: 8.8054 - val_accuracy: 0.7617\n",
            "Epoch 2/50\n",
            "60000/60000 [==============================] - 11s 190us/sample - loss: 7.2384 - accuracy: 0.7326 - val_loss: 5.4611 - val_accuracy: 0.8080\n",
            "Epoch 3/50\n",
            "60000/60000 [==============================] - 11s 187us/sample - loss: 4.2142 - accuracy: 0.7968 - val_loss: 3.0150 - val_accuracy: 0.8399\n",
            "Epoch 4/50\n",
            "60000/60000 [==============================] - 11s 188us/sample - loss: 2.3257 - accuracy: 0.8420 - val_loss: 1.6892 - val_accuracy: 0.8777\n",
            "Epoch 5/50\n",
            "60000/60000 [==============================] - 11s 185us/sample - loss: 1.3778 - accuracy: 0.8680 - val_loss: 1.0681 - val_accuracy: 0.8897\n",
            "Epoch 6/50\n",
            "60000/60000 [==============================] - 11s 189us/sample - loss: 0.9469 - accuracy: 0.8832 - val_loss: 0.7908 - val_accuracy: 0.8983\n",
            "Epoch 7/50\n",
            "60000/60000 [==============================] - 11s 188us/sample - loss: 0.7487 - accuracy: 0.8919 - val_loss: 0.6473 - val_accuracy: 0.9111\n",
            "Epoch 8/50\n",
            "60000/60000 [==============================] - 11s 189us/sample - loss: 0.6460 - accuracy: 0.8988 - val_loss: 0.5977 - val_accuracy: 0.9038\n",
            "Epoch 9/50\n",
            "60000/60000 [==============================] - 11s 183us/sample - loss: 0.5874 - accuracy: 0.9030 - val_loss: 0.5371 - val_accuracy: 0.9139\n",
            "Epoch 10/50\n",
            "60000/60000 [==============================] - 11s 184us/sample - loss: 0.5467 - accuracy: 0.9067 - val_loss: 0.5123 - val_accuracy: 0.9110\n",
            "Epoch 11/50\n",
            "60000/60000 [==============================] - 11s 191us/sample - loss: 0.5226 - accuracy: 0.9103 - val_loss: 0.5533 - val_accuracy: 0.8907\n",
            "Epoch 12/50\n",
            "60000/60000 [==============================] - 11s 186us/sample - loss: 0.5065 - accuracy: 0.9112 - val_loss: 0.4756 - val_accuracy: 0.9200\n",
            "Epoch 13/50\n",
            "60000/60000 [==============================] - 11s 190us/sample - loss: 0.4901 - accuracy: 0.9141 - val_loss: 0.4585 - val_accuracy: 0.9220\n",
            "Epoch 14/50\n",
            "60000/60000 [==============================] - 11s 187us/sample - loss: 0.4764 - accuracy: 0.9153 - val_loss: 0.4609 - val_accuracy: 0.9157\n",
            "Epoch 15/50\n",
            "60000/60000 [==============================] - 11s 186us/sample - loss: 0.4658 - accuracy: 0.9185 - val_loss: 0.4385 - val_accuracy: 0.9231\n",
            "Epoch 16/50\n",
            "60000/60000 [==============================] - 11s 186us/sample - loss: 0.4563 - accuracy: 0.9203 - val_loss: 0.4471 - val_accuracy: 0.9200\n",
            "Epoch 17/50\n",
            "60000/60000 [==============================] - 11s 187us/sample - loss: 0.4502 - accuracy: 0.9203 - val_loss: 0.4672 - val_accuracy: 0.9127\n",
            "Epoch 18/50\n",
            "60000/60000 [==============================] - 11s 187us/sample - loss: 0.4419 - accuracy: 0.9222 - val_loss: 0.4281 - val_accuracy: 0.9252\n",
            "Epoch 19/50\n",
            "60000/60000 [==============================] - 12s 197us/sample - loss: 0.4386 - accuracy: 0.9225 - val_loss: 0.4317 - val_accuracy: 0.9227\n",
            "Epoch 20/50\n",
            "60000/60000 [==============================] - 11s 186us/sample - loss: 0.4335 - accuracy: 0.9255 - val_loss: 0.4158 - val_accuracy: 0.9273\n",
            "Epoch 21/50\n",
            "60000/60000 [==============================] - 11s 191us/sample - loss: 0.4308 - accuracy: 0.9236 - val_loss: 0.4238 - val_accuracy: 0.9239\n",
            "Epoch 22/50\n",
            "60000/60000 [==============================] - 12s 196us/sample - loss: 0.4264 - accuracy: 0.9243 - val_loss: 0.4101 - val_accuracy: 0.9299\n",
            "Epoch 23/50\n",
            "60000/60000 [==============================] - 11s 190us/sample - loss: 0.4213 - accuracy: 0.9267 - val_loss: 0.4097 - val_accuracy: 0.9279\n",
            "Epoch 24/50\n",
            "60000/60000 [==============================] - 12s 192us/sample - loss: 0.4172 - accuracy: 0.9274 - val_loss: 0.4274 - val_accuracy: 0.9232\n",
            "Epoch 25/50\n",
            "60000/60000 [==============================] - 11s 188us/sample - loss: 0.4137 - accuracy: 0.9279 - val_loss: 0.4071 - val_accuracy: 0.9314\n",
            "Epoch 26/50\n",
            "60000/60000 [==============================] - 11s 187us/sample - loss: 0.4141 - accuracy: 0.9283 - val_loss: 0.4130 - val_accuracy: 0.9281\n",
            "Epoch 27/50\n",
            "60000/60000 [==============================] - 12s 192us/sample - loss: 0.4099 - accuracy: 0.9292 - val_loss: 0.4101 - val_accuracy: 0.9286\n",
            "Epoch 28/50\n",
            "60000/60000 [==============================] - 11s 190us/sample - loss: 0.4096 - accuracy: 0.9291 - val_loss: 0.4022 - val_accuracy: 0.9296\n",
            "Epoch 29/50\n",
            "60000/60000 [==============================] - 11s 191us/sample - loss: 0.4067 - accuracy: 0.9300 - val_loss: 0.4130 - val_accuracy: 0.9256\n",
            "Epoch 30/50\n",
            "60000/60000 [==============================] - 11s 190us/sample - loss: 0.4049 - accuracy: 0.9299 - val_loss: 0.3975 - val_accuracy: 0.9315\n",
            "Epoch 31/50\n",
            "60000/60000 [==============================] - 11s 187us/sample - loss: 0.4014 - accuracy: 0.9312 - val_loss: 0.3981 - val_accuracy: 0.9302\n",
            "Epoch 32/50\n",
            "60000/60000 [==============================] - 12s 192us/sample - loss: 0.3987 - accuracy: 0.9326 - val_loss: 0.4009 - val_accuracy: 0.9273\n",
            "Epoch 33/50\n",
            "60000/60000 [==============================] - 11s 188us/sample - loss: 0.4015 - accuracy: 0.9322 - val_loss: 0.4088 - val_accuracy: 0.9245\n",
            "Epoch 34/50\n",
            "60000/60000 [==============================] - 11s 192us/sample - loss: 0.3964 - accuracy: 0.9332 - val_loss: 0.3931 - val_accuracy: 0.9305\n",
            "Epoch 35/50\n",
            "60000/60000 [==============================] - 11s 190us/sample - loss: 0.3971 - accuracy: 0.9318 - val_loss: 0.4035 - val_accuracy: 0.9283\n",
            "Epoch 36/50\n",
            "60000/60000 [==============================] - 11s 188us/sample - loss: 0.3956 - accuracy: 0.9334 - val_loss: 0.4130 - val_accuracy: 0.9264\n",
            "Epoch 37/50\n",
            "60000/60000 [==============================] - 11s 189us/sample - loss: 0.3926 - accuracy: 0.9336 - val_loss: 0.4079 - val_accuracy: 0.9250\n",
            "Epoch 38/50\n",
            "60000/60000 [==============================] - 12s 194us/sample - loss: 0.3883 - accuracy: 0.9343 - val_loss: 0.4050 - val_accuracy: 0.9292\n",
            "Epoch 39/50\n",
            "60000/60000 [==============================] - 12s 193us/sample - loss: 0.3917 - accuracy: 0.9346 - val_loss: 0.3896 - val_accuracy: 0.9344\n",
            "Epoch 40/50\n",
            "60000/60000 [==============================] - 11s 190us/sample - loss: 0.3884 - accuracy: 0.9345 - val_loss: 0.3982 - val_accuracy: 0.9296\n",
            "Epoch 41/50\n",
            "60000/60000 [==============================] - 11s 189us/sample - loss: 0.3880 - accuracy: 0.9342 - val_loss: 0.4278 - val_accuracy: 0.9210\n",
            "Epoch 42/50\n",
            "60000/60000 [==============================] - 11s 190us/sample - loss: 0.3848 - accuracy: 0.9349 - val_loss: 0.3958 - val_accuracy: 0.9314\n",
            "Epoch 43/50\n",
            "60000/60000 [==============================] - 12s 193us/sample - loss: 0.3865 - accuracy: 0.9352 - val_loss: 0.3860 - val_accuracy: 0.9334\n",
            "Epoch 44/50\n",
            "60000/60000 [==============================] - 12s 192us/sample - loss: 0.3851 - accuracy: 0.9362 - val_loss: 0.3885 - val_accuracy: 0.9331\n",
            "Epoch 45/50\n",
            "60000/60000 [==============================] - 12s 192us/sample - loss: 0.3844 - accuracy: 0.9365 - val_loss: 0.4106 - val_accuracy: 0.9217\n",
            "Epoch 46/50\n",
            "60000/60000 [==============================] - 11s 189us/sample - loss: 0.3844 - accuracy: 0.9346 - val_loss: 0.3894 - val_accuracy: 0.9324\n",
            "Epoch 47/50\n",
            "60000/60000 [==============================] - 11s 188us/sample - loss: 0.3808 - accuracy: 0.9365 - val_loss: 0.3940 - val_accuracy: 0.9340\n",
            "Epoch 48/50\n",
            "60000/60000 [==============================] - 12s 197us/sample - loss: 0.3822 - accuracy: 0.9369 - val_loss: 0.3917 - val_accuracy: 0.9307\n",
            "Epoch 49/50\n",
            "60000/60000 [==============================] - 12s 196us/sample - loss: 0.3813 - accuracy: 0.9361 - val_loss: 0.3858 - val_accuracy: 0.9346\n",
            "Epoch 50/50\n",
            "60000/60000 [==============================] - 12s 192us/sample - loss: 0.3772 - accuracy: 0.9379 - val_loss: 0.3971 - val_accuracy: 0.9302\n",
            "CPU times: user 9min 57s, sys: 57.9 s, total: 10min 55s\n",
            "Wall time: 9min 30s\n"
          ],
          "name": "stdout"
        }
      ]
    },
    {
      "cell_type": "code",
      "metadata": {
        "id": "KHvoBtEA9RMW",
        "colab_type": "code",
        "colab": {
          "base_uri": "https://localhost:8080/",
          "height": 282
        },
        "outputId": "cce35b15-e6fb-4fd6-a6e2-925245c21e5b"
      },
      "source": [
        "plt.plot(r.history['loss'], label = 'Training Loss')\n",
        "plt.plot(r.history['val_loss'], label = 'Validation Loss')\n",
        "plt.legend()"
      ],
      "execution_count": 34,
      "outputs": [
        {
          "output_type": "execute_result",
          "data": {
            "text/plain": [
              "<matplotlib.legend.Legend at 0x7f0252135518>"
            ]
          },
          "metadata": {
            "tags": []
          },
          "execution_count": 34
        },
        {
          "output_type": "display_data",
          "data": {
            "image/png": "[encoded data removed]",
            "text/plain": [
              "<Figure size 432x288 with 1 Axes>"
            ]
          },
          "metadata": {
            "tags": []
          }
        }
      ]
    },
    {
      "cell_type": "code",
      "metadata": {
        "id": "jWrGSOdE9W0i",
        "colab_type": "code",
        "colab": {
          "base_uri": "https://localhost:8080/",
          "height": 283
        },
        "outputId": "5b148ce7-6b94-4e1d-954d-1c9202d8a454"
      },
      "source": [
        "plt.plot(r.history['accuracy'], label = 'Training Accuracy')\n",
        "plt.plot(r.history['val_accuracy'], label = 'Validation Accuracy')\n",
        "plt.legend()"
      ],
      "execution_count": 35,
      "outputs": [
        {
          "output_type": "execute_result",
          "data": {
            "text/plain": [
              "<matplotlib.legend.Legend at 0x7f025209b9b0>"
            ]
          },
          "metadata": {
            "tags": []
          },
          "execution_count": 35
        },
        {
          "output_type": "display_data",
          "data": {
            "image/png": "[encoded data removed]",
            "text/plain": [
              "<Figure size 432x288 with 1 Axes>"
            ]
          },
          "metadata": {
            "tags": []
          }
        }
      ]
    },
    {
      "cell_type": "code",
      "metadata": {
        "id": "cp96qrZVBeZY",
        "colab_type": "code",
        "colab": {
          "base_uri": "https://localhost:8080/",
          "height": 1000
        },
        "outputId": "7cbfdaec-a38a-4910-9a95-41113498ca81"
      },
      "source": [
        "%%time\n",
        "BATCH_SIZE = 32\n",
        "train_data_generator = tf.keras.preprocessing.image.ImageDataGenerator(width_shift_range = 0.1,\n",
        "                                                                 height_shift_range = 0.1,\n",
        "                                                                 horizontal_flip = True,\n",
        "                                                                 #rotation_range=90,          \n",
        "                                                                 #shear_range=0.2,            \n",
        "                                                                 #zoom_range=0.1,               \n",
        "                                                                 #fill_mode='nearest'\n",
        "                                                                 )\n",
        "test_data_generator = tf.keras.preprocessing.image.ImageDataGenerator(width_shift_range = 0.1,\n",
        "                                                                 height_shift_range = 0.1,\n",
        "                                                                 horizontal_flip = True,\n",
        "                                                                 #rotation_range=90,          \n",
        "                                                                 #shear_range=0.2,            \n",
        "                                                                 #zoom_range=0.1,               \n",
        "                                                                 #fill_mode='nearest'\n",
        "                                                                 )\n",
        "train_generator = train_data_generator.flow(X_train, y_train, BATCH_SIZE)\n",
        "test_generator = test_data_generator.flow(X_test, y_test, BATCH_SIZE)\n",
        "STEPS = X_train.shape[0] // BATCH_SIZE\n",
        "#r = model.fit(train_generator, validation_data = (X_test, y_test), steps_per_epoch = STEPS, epochs = 100)\n",
        "r = model.fit(train_generator, validation_data = test_generator, steps_per_epoch = STEPS, epochs = 250)"
      ],
      "execution_count": 43,
      "outputs": [
        {
          "output_type": "stream",
          "text": [
            "WARNING:tensorflow:sample_weight modes were coerced from\n",
            "  ...\n",
            "    to  \n",
            "  ['...']\n",
            "WARNING:tensorflow:sample_weight modes were coerced from\n",
            "  ...\n",
            "    to  \n",
            "  ['...']\n",
            "Train for 1875 steps, validate for 313 steps\n",
            "Epoch 1/250\n",
            "1875/1875 [==============================] - 22s 12ms/step - loss: 11.8212 - accuracy: 0.4506 - val_loss: 9.1093 - val_accuracy: 0.6984\n",
            "Epoch 2/250\n",
            "1875/1875 [==============================] - 21s 11ms/step - loss: 7.6472 - accuracy: 0.6628 - val_loss: 5.8764 - val_accuracy: 0.7493\n",
            "Epoch 3/250\n",
            "1875/1875 [==============================] - 21s 11ms/step - loss: 4.6500 - accuracy: 0.7387 - val_loss: 3.4340 - val_accuracy: 0.7721\n",
            "Epoch 4/250\n",
            "1875/1875 [==============================] - 21s 11ms/step - loss: 2.6639 - accuracy: 0.7850 - val_loss: 1.9487 - val_accuracy: 0.8222\n",
            "Epoch 5/250\n",
            "1875/1875 [==============================] - 21s 11ms/step - loss: 1.6138 - accuracy: 0.8148 - val_loss: 1.2505 - val_accuracy: 0.8471\n",
            "Epoch 6/250\n",
            "1875/1875 [==============================] - 21s 11ms/step - loss: 1.1228 - accuracy: 0.8391 - val_loss: 0.9369 - val_accuracy: 0.8614\n",
            "Epoch 7/250\n",
            "1875/1875 [==============================] - 21s 11ms/step - loss: 0.8962 - accuracy: 0.8507 - val_loss: 0.7653 - val_accuracy: 0.8816\n",
            "Epoch 8/250\n",
            "1875/1875 [==============================] - 21s 11ms/step - loss: 0.7825 - accuracy: 0.8605 - val_loss: 0.6895 - val_accuracy: 0.8823\n",
            "Epoch 9/250\n",
            "1875/1875 [==============================] - 21s 11ms/step - loss: 0.7144 - accuracy: 0.8668 - val_loss: 0.6373 - val_accuracy: 0.8872\n",
            "Epoch 10/250\n",
            "1875/1875 [==============================] - 21s 11ms/step - loss: 0.6704 - accuracy: 0.8720 - val_loss: 0.6238 - val_accuracy: 0.8833\n",
            "Epoch 11/250\n",
            "1875/1875 [==============================] - 21s 11ms/step - loss: 0.6417 - accuracy: 0.8761 - val_loss: 0.6103 - val_accuracy: 0.8851\n",
            "Epoch 12/250\n",
            "1875/1875 [==============================] - 21s 11ms/step - loss: 0.6198 - accuracy: 0.8789 - val_loss: 0.5819 - val_accuracy: 0.8836\n",
            "Epoch 13/250\n",
            "1875/1875 [==============================] - 21s 11ms/step - loss: 0.5972 - accuracy: 0.8834 - val_loss: 0.5573 - val_accuracy: 0.8942\n",
            "Epoch 14/250\n",
            "1875/1875 [==============================] - 21s 11ms/step - loss: 0.5862 - accuracy: 0.8851 - val_loss: 0.5286 - val_accuracy: 0.9007\n",
            "Epoch 15/250\n",
            "1875/1875 [==============================] - 21s 11ms/step - loss: 0.5722 - accuracy: 0.8869 - val_loss: 0.5290 - val_accuracy: 0.8999\n",
            "Epoch 16/250\n",
            "1875/1875 [==============================] - 21s 11ms/step - loss: 0.5593 - accuracy: 0.8895 - val_loss: 0.5211 - val_accuracy: 0.8966\n",
            "Epoch 17/250\n",
            "1875/1875 [==============================] - 21s 11ms/step - loss: 0.5478 - accuracy: 0.8922 - val_loss: 0.4948 - val_accuracy: 0.9101\n",
            "Epoch 18/250\n",
            "1875/1875 [==============================] - 21s 11ms/step - loss: 0.5397 - accuracy: 0.8931 - val_loss: 0.4931 - val_accuracy: 0.9053\n",
            "Epoch 19/250\n",
            "1875/1875 [==============================] - 21s 11ms/step - loss: 0.5358 - accuracy: 0.8937 - val_loss: 0.4956 - val_accuracy: 0.9059\n",
            "Epoch 20/250\n",
            "1875/1875 [==============================] - 21s 11ms/step - loss: 0.5279 - accuracy: 0.8945 - val_loss: 0.4928 - val_accuracy: 0.9078\n",
            "Epoch 21/250\n",
            "1875/1875 [==============================] - 21s 11ms/step - loss: 0.5201 - accuracy: 0.8970 - val_loss: 0.4916 - val_accuracy: 0.9062\n",
            "Epoch 22/250\n",
            "1875/1875 [==============================] - 21s 11ms/step - loss: 0.5152 - accuracy: 0.8978 - val_loss: 0.4767 - val_accuracy: 0.9088\n",
            "Epoch 23/250\n",
            "1875/1875 [==============================] - 21s 11ms/step - loss: 0.5116 - accuracy: 0.8982 - val_loss: 0.4734 - val_accuracy: 0.9066\n",
            "Epoch 24/250\n",
            "1875/1875 [==============================] - 21s 11ms/step - loss: 0.5091 - accuracy: 0.8976 - val_loss: 0.4806 - val_accuracy: 0.9078\n",
            "Epoch 25/250\n",
            "1875/1875 [==============================] - 21s 11ms/step - loss: 0.5042 - accuracy: 0.8996 - val_loss: 0.4649 - val_accuracy: 0.9112\n",
            "Epoch 26/250\n",
            "1875/1875 [==============================] - 21s 11ms/step - loss: 0.5015 - accuracy: 0.9003 - val_loss: 0.4752 - val_accuracy: 0.9055\n",
            "Epoch 27/250\n",
            "1875/1875 [==============================] - 21s 11ms/step - loss: 0.4988 - accuracy: 0.8996 - val_loss: 0.4535 - val_accuracy: 0.9152\n",
            "Epoch 28/250\n",
            "1875/1875 [==============================] - 21s 11ms/step - loss: 0.4935 - accuracy: 0.9019 - val_loss: 0.4644 - val_accuracy: 0.9101\n",
            "Epoch 29/250\n",
            "1875/1875 [==============================] - 21s 11ms/step - loss: 0.4940 - accuracy: 0.9004 - val_loss: 0.4515 - val_accuracy: 0.9146\n",
            "Epoch 30/250\n",
            "1875/1875 [==============================] - 21s 11ms/step - loss: 0.4902 - accuracy: 0.9039 - val_loss: 0.4700 - val_accuracy: 0.9095\n",
            "Epoch 31/250\n",
            "1875/1875 [==============================] - 21s 11ms/step - loss: 0.4895 - accuracy: 0.9036 - val_loss: 0.4499 - val_accuracy: 0.9144\n",
            "Epoch 32/250\n",
            "1875/1875 [==============================] - 21s 11ms/step - loss: 0.4878 - accuracy: 0.9024 - val_loss: 0.4557 - val_accuracy: 0.9133\n",
            "Epoch 33/250\n",
            "1875/1875 [==============================] - 21s 11ms/step - loss: 0.4859 - accuracy: 0.9051 - val_loss: 0.4596 - val_accuracy: 0.9107\n",
            "Epoch 34/250\n",
            "1875/1875 [==============================] - 21s 11ms/step - loss: 0.4822 - accuracy: 0.9048 - val_loss: 0.4630 - val_accuracy: 0.9057\n",
            "Epoch 35/250\n",
            "1875/1875 [==============================] - 21s 11ms/step - loss: 0.4847 - accuracy: 0.9026 - val_loss: 0.4392 - val_accuracy: 0.9183\n",
            "Epoch 36/250\n",
            "1875/1875 [==============================] - 21s 11ms/step - loss: 0.4802 - accuracy: 0.9049 - val_loss: 0.4446 - val_accuracy: 0.9158\n",
            "Epoch 37/250\n",
            "1875/1875 [==============================] - 21s 11ms/step - loss: 0.4789 - accuracy: 0.9058 - val_loss: 0.4523 - val_accuracy: 0.9155\n",
            "Epoch 38/250\n",
            "1875/1875 [==============================] - 21s 11ms/step - loss: 0.4780 - accuracy: 0.9054 - val_loss: 0.4484 - val_accuracy: 0.9119\n",
            "Epoch 39/250\n",
            "1875/1875 [==============================] - 21s 11ms/step - loss: 0.4758 - accuracy: 0.9060 - val_loss: 0.4649 - val_accuracy: 0.9068\n",
            "Epoch 40/250\n",
            "1875/1875 [==============================] - 21s 11ms/step - loss: 0.4726 - accuracy: 0.9066 - val_loss: 0.4498 - val_accuracy: 0.9110\n",
            "Epoch 41/250\n",
            "1875/1875 [==============================] - 21s 11ms/step - loss: 0.4735 - accuracy: 0.9065 - val_loss: 0.4354 - val_accuracy: 0.9189\n",
            "Epoch 42/250\n",
            "1875/1875 [==============================] - 21s 11ms/step - loss: 0.4705 - accuracy: 0.9074 - val_loss: 0.4408 - val_accuracy: 0.9151\n",
            "Epoch 43/250\n",
            "1875/1875 [==============================] - 21s 11ms/step - loss: 0.4681 - accuracy: 0.9080 - val_loss: 0.4334 - val_accuracy: 0.9159\n",
            "Epoch 44/250\n",
            "1875/1875 [==============================] - 21s 11ms/step - loss: 0.4682 - accuracy: 0.9075 - val_loss: 0.4465 - val_accuracy: 0.9142\n",
            "Epoch 45/250\n",
            "1875/1875 [==============================] - 21s 11ms/step - loss: 0.4657 - accuracy: 0.9080 - val_loss: 0.4401 - val_accuracy: 0.9151\n",
            "Epoch 46/250\n",
            "1875/1875 [==============================] - 21s 11ms/step - loss: 0.4633 - accuracy: 0.9101 - val_loss: 0.4380 - val_accuracy: 0.9134\n",
            "Epoch 47/250\n",
            "1875/1875 [==============================] - 21s 11ms/step - loss: 0.4616 - accuracy: 0.9096 - val_loss: 0.4361 - val_accuracy: 0.9161\n",
            "Epoch 48/250\n",
            "1875/1875 [==============================] - 21s 11ms/step - loss: 0.4660 - accuracy: 0.9075 - val_loss: 0.4357 - val_accuracy: 0.9148\n",
            "Epoch 49/250\n",
            "1875/1875 [==============================] - 21s 11ms/step - loss: 0.4615 - accuracy: 0.9099 - val_loss: 0.4488 - val_accuracy: 0.9116\n",
            "Epoch 50/250\n",
            "1875/1875 [==============================] - 21s 11ms/step - loss: 0.4624 - accuracy: 0.9087 - val_loss: 0.4281 - val_accuracy: 0.9190\n",
            "Epoch 51/250\n",
            "1875/1875 [==============================] - 21s 11ms/step - loss: 0.4630 - accuracy: 0.9077 - val_loss: 0.4439 - val_accuracy: 0.9126\n",
            "Epoch 52/250\n",
            "1875/1875 [==============================] - 21s 11ms/step - loss: 0.4598 - accuracy: 0.9103 - val_loss: 0.4214 - val_accuracy: 0.9229\n",
            "Epoch 53/250\n",
            "1875/1875 [==============================] - 21s 11ms/step - loss: 0.4613 - accuracy: 0.9092 - val_loss: 0.4319 - val_accuracy: 0.9174\n",
            "Epoch 54/250\n",
            "1875/1875 [==============================] - 21s 11ms/step - loss: 0.4592 - accuracy: 0.9094 - val_loss: 0.4259 - val_accuracy: 0.9206\n",
            "Epoch 55/250\n",
            "1875/1875 [==============================] - 21s 11ms/step - loss: 0.4589 - accuracy: 0.9090 - val_loss: 0.4265 - val_accuracy: 0.9204\n",
            "Epoch 56/250\n",
            "1875/1875 [==============================] - 21s 11ms/step - loss: 0.4579 - accuracy: 0.9089 - val_loss: 0.4278 - val_accuracy: 0.9209\n",
            "Epoch 57/250\n",
            "1875/1875 [==============================] - 21s 11ms/step - loss: 0.4556 - accuracy: 0.9103 - val_loss: 0.4360 - val_accuracy: 0.9165\n",
            "Epoch 58/250\n",
            "1875/1875 [==============================] - 21s 11ms/step - loss: 0.4533 - accuracy: 0.9110 - val_loss: 0.4221 - val_accuracy: 0.9200\n",
            "Epoch 59/250\n",
            "1875/1875 [==============================] - 21s 11ms/step - loss: 0.4557 - accuracy: 0.9104 - val_loss: 0.4270 - val_accuracy: 0.9204\n",
            "Epoch 60/250\n",
            "1875/1875 [==============================] - 21s 11ms/step - loss: 0.4518 - accuracy: 0.9114 - val_loss: 0.4439 - val_accuracy: 0.9122\n",
            "Epoch 61/250\n",
            "1875/1875 [==============================] - 21s 11ms/step - loss: 0.4508 - accuracy: 0.9109 - val_loss: 0.4344 - val_accuracy: 0.9183\n",
            "Epoch 62/250\n",
            "1875/1875 [==============================] - 21s 11ms/step - loss: 0.4544 - accuracy: 0.9100 - val_loss: 0.4137 - val_accuracy: 0.9200\n",
            "Epoch 63/250\n",
            "1875/1875 [==============================] - 21s 11ms/step - loss: 0.4491 - accuracy: 0.9118 - val_loss: 0.4253 - val_accuracy: 0.9189\n",
            "Epoch 64/250\n",
            "1875/1875 [==============================] - 21s 11ms/step - loss: 0.4485 - accuracy: 0.9118 - val_loss: 0.4216 - val_accuracy: 0.9210\n",
            "Epoch 65/250\n",
            "1875/1875 [==============================] - 21s 11ms/step - loss: 0.4552 - accuracy: 0.9097 - val_loss: 0.4215 - val_accuracy: 0.9200\n",
            "Epoch 66/250\n",
            "1875/1875 [==============================] - 21s 11ms/step - loss: 0.4463 - accuracy: 0.9124 - val_loss: 0.4193 - val_accuracy: 0.9191\n",
            "Epoch 67/250\n",
            "1875/1875 [==============================] - 21s 11ms/step - loss: 0.4463 - accuracy: 0.9121 - val_loss: 0.4199 - val_accuracy: 0.9190\n",
            "Epoch 68/250\n",
            "1875/1875 [==============================] - 21s 11ms/step - loss: 0.4462 - accuracy: 0.9119 - val_loss: 0.4104 - val_accuracy: 0.9202\n",
            "Epoch 69/250\n",
            "1875/1875 [==============================] - 21s 11ms/step - loss: 0.4468 - accuracy: 0.9113 - val_loss: 0.4366 - val_accuracy: 0.9107\n",
            "Epoch 70/250\n",
            "1875/1875 [==============================] - 21s 11ms/step - loss: 0.4480 - accuracy: 0.9104 - val_loss: 0.4187 - val_accuracy: 0.9202\n",
            "Epoch 71/250\n",
            "1875/1875 [==============================] - 21s 11ms/step - loss: 0.4462 - accuracy: 0.9119 - val_loss: 0.4308 - val_accuracy: 0.9137\n",
            "Epoch 72/250\n",
            "1875/1875 [==============================] - 21s 11ms/step - loss: 0.4460 - accuracy: 0.9110 - val_loss: 0.4186 - val_accuracy: 0.9220\n",
            "Epoch 73/250\n",
            "1875/1875 [==============================] - 20s 11ms/step - loss: 0.4450 - accuracy: 0.9119 - val_loss: 0.4327 - val_accuracy: 0.9160\n",
            "Epoch 74/250\n",
            "1875/1875 [==============================] - 21s 11ms/step - loss: 0.4431 - accuracy: 0.9119 - val_loss: 0.4232 - val_accuracy: 0.9191\n",
            "Epoch 75/250\n",
            "1875/1875 [==============================] - 21s 11ms/step - loss: 0.4392 - accuracy: 0.9142 - val_loss: 0.4146 - val_accuracy: 0.9204\n",
            "Epoch 76/250\n",
            "1875/1875 [==============================] - 21s 11ms/step - loss: 0.4424 - accuracy: 0.9123 - val_loss: 0.4156 - val_accuracy: 0.9205\n",
            "Epoch 77/250\n",
            "1875/1875 [==============================] - 21s 11ms/step - loss: 0.4390 - accuracy: 0.9126 - val_loss: 0.4154 - val_accuracy: 0.9202\n",
            "Epoch 78/250\n",
            "1875/1875 [==============================] - 21s 11ms/step - loss: 0.4395 - accuracy: 0.9130 - val_loss: 0.4394 - val_accuracy: 0.9105\n",
            "Epoch 79/250\n",
            "1875/1875 [==============================] - 21s 11ms/step - loss: 0.4421 - accuracy: 0.9123 - val_loss: 0.4148 - val_accuracy: 0.9221\n",
            "Epoch 80/250\n",
            "1875/1875 [==============================] - 21s 11ms/step - loss: 0.4397 - accuracy: 0.9129 - val_loss: 0.4212 - val_accuracy: 0.9175\n",
            "Epoch 81/250\n",
            "1875/1875 [==============================] - 21s 11ms/step - loss: 0.4392 - accuracy: 0.9118 - val_loss: 0.4240 - val_accuracy: 0.9154\n",
            "Epoch 82/250\n",
            "1875/1875 [==============================] - 21s 11ms/step - loss: 0.4371 - accuracy: 0.9131 - val_loss: 0.4255 - val_accuracy: 0.9158\n",
            "Epoch 83/250\n",
            "1875/1875 [==============================] - 21s 11ms/step - loss: 0.4382 - accuracy: 0.9134 - val_loss: 0.4193 - val_accuracy: 0.9188\n",
            "Epoch 84/250\n",
            "1875/1875 [==============================] - 21s 11ms/step - loss: 0.4374 - accuracy: 0.9130 - val_loss: 0.4521 - val_accuracy: 0.9050\n",
            "Epoch 85/250\n",
            "1875/1875 [==============================] - 21s 11ms/step - loss: 0.4324 - accuracy: 0.9158 - val_loss: 0.4212 - val_accuracy: 0.9143\n",
            "Epoch 86/250\n",
            "1875/1875 [==============================] - 21s 11ms/step - loss: 0.4353 - accuracy: 0.9141 - val_loss: 0.4061 - val_accuracy: 0.9232\n",
            "Epoch 87/250\n",
            "1875/1875 [==============================] - 21s 11ms/step - loss: 0.4330 - accuracy: 0.9147 - val_loss: 0.4078 - val_accuracy: 0.9188\n",
            "Epoch 88/250\n",
            "1875/1875 [==============================] - 21s 11ms/step - loss: 0.4340 - accuracy: 0.9142 - val_loss: 0.4116 - val_accuracy: 0.9203\n",
            "Epoch 89/250\n",
            "1875/1875 [==============================] - 21s 11ms/step - loss: 0.4334 - accuracy: 0.9142 - val_loss: 0.4059 - val_accuracy: 0.9187\n",
            "Epoch 90/250\n",
            "1875/1875 [==============================] - 21s 11ms/step - loss: 0.4329 - accuracy: 0.9135 - val_loss: 0.4169 - val_accuracy: 0.9183\n",
            "Epoch 91/250\n",
            "1875/1875 [==============================] - 21s 11ms/step - loss: 0.4327 - accuracy: 0.9145 - val_loss: 0.4027 - val_accuracy: 0.9241\n",
            "Epoch 92/250\n",
            "1875/1875 [==============================] - 21s 11ms/step - loss: 0.4313 - accuracy: 0.9159 - val_loss: 0.4017 - val_accuracy: 0.9229\n",
            "Epoch 93/250\n",
            "1875/1875 [==============================] - 21s 11ms/step - loss: 0.4290 - accuracy: 0.9158 - val_loss: 0.4060 - val_accuracy: 0.9232\n",
            "Epoch 94/250\n",
            "1875/1875 [==============================] - 21s 11ms/step - loss: 0.4290 - accuracy: 0.9138 - val_loss: 0.4256 - val_accuracy: 0.9107\n",
            "Epoch 95/250\n",
            "1875/1875 [==============================] - 21s 11ms/step - loss: 0.4303 - accuracy: 0.9147 - val_loss: 0.3992 - val_accuracy: 0.9232\n",
            "Epoch 96/250\n",
            "1875/1875 [==============================] - 21s 11ms/step - loss: 0.4290 - accuracy: 0.9144 - val_loss: 0.4064 - val_accuracy: 0.9206\n",
            "Epoch 97/250\n",
            "1875/1875 [==============================] - 21s 11ms/step - loss: 0.4299 - accuracy: 0.9143 - val_loss: 0.4072 - val_accuracy: 0.9190\n",
            "Epoch 98/250\n",
            "1875/1875 [==============================] - 21s 11ms/step - loss: 0.4267 - accuracy: 0.9154 - val_loss: 0.4099 - val_accuracy: 0.9197\n",
            "Epoch 99/250\n",
            "1875/1875 [==============================] - 21s 11ms/step - loss: 0.4291 - accuracy: 0.9141 - val_loss: 0.3910 - val_accuracy: 0.9277\n",
            "Epoch 100/250\n",
            "1875/1875 [==============================] - 21s 11ms/step - loss: 0.4254 - accuracy: 0.9154 - val_loss: 0.4000 - val_accuracy: 0.9239\n",
            "Epoch 101/250\n",
            "1875/1875 [==============================] - 21s 11ms/step - loss: 0.4234 - accuracy: 0.9165 - val_loss: 0.3963 - val_accuracy: 0.9228\n",
            "Epoch 102/250\n",
            "1875/1875 [==============================] - 21s 11ms/step - loss: 0.4240 - accuracy: 0.9166 - val_loss: 0.3954 - val_accuracy: 0.9236\n",
            "Epoch 103/250\n",
            "1875/1875 [==============================] - 21s 11ms/step - loss: 0.4259 - accuracy: 0.9155 - val_loss: 0.4043 - val_accuracy: 0.9194\n",
            "Epoch 104/250\n",
            "1875/1875 [==============================] - 21s 11ms/step - loss: 0.4257 - accuracy: 0.9155 - val_loss: 0.4020 - val_accuracy: 0.9235\n",
            "Epoch 105/250\n",
            "1875/1875 [==============================] - 21s 11ms/step - loss: 0.4269 - accuracy: 0.9145 - val_loss: 0.4031 - val_accuracy: 0.9233\n",
            "Epoch 106/250\n",
            "1875/1875 [==============================] - 21s 11ms/step - loss: 0.4224 - accuracy: 0.9161 - val_loss: 0.4079 - val_accuracy: 0.9155\n",
            "Epoch 107/250\n",
            "1875/1875 [==============================] - 21s 11ms/step - loss: 0.4219 - accuracy: 0.9161 - val_loss: 0.3996 - val_accuracy: 0.9209\n",
            "Epoch 108/250\n",
            "1875/1875 [==============================] - 21s 11ms/step - loss: 0.4228 - accuracy: 0.9153 - val_loss: 0.3920 - val_accuracy: 0.9242\n",
            "Epoch 109/250\n",
            "1875/1875 [==============================] - 21s 11ms/step - loss: 0.4224 - accuracy: 0.9157 - val_loss: 0.4099 - val_accuracy: 0.9157\n",
            "Epoch 110/250\n",
            "1875/1875 [==============================] - 21s 11ms/step - loss: 0.4212 - accuracy: 0.9159 - val_loss: 0.3893 - val_accuracy: 0.9250\n",
            "Epoch 111/250\n",
            "1875/1875 [==============================] - 21s 11ms/step - loss: 0.4201 - accuracy: 0.9160 - val_loss: 0.4002 - val_accuracy: 0.9204\n",
            "Epoch 112/250\n",
            "1875/1875 [==============================] - 21s 11ms/step - loss: 0.4216 - accuracy: 0.9153 - val_loss: 0.3965 - val_accuracy: 0.9240\n",
            "Epoch 113/250\n",
            "1875/1875 [==============================] - 21s 11ms/step - loss: 0.4210 - accuracy: 0.9156 - val_loss: 0.3998 - val_accuracy: 0.9206\n",
            "Epoch 114/250\n",
            "1875/1875 [==============================] - 21s 11ms/step - loss: 0.4176 - accuracy: 0.9151 - val_loss: 0.3961 - val_accuracy: 0.9228\n",
            "Epoch 115/250\n",
            "1875/1875 [==============================] - 21s 11ms/step - loss: 0.4209 - accuracy: 0.9158 - val_loss: 0.3991 - val_accuracy: 0.9218\n",
            "Epoch 116/250\n",
            "1875/1875 [==============================] - 21s 11ms/step - loss: 0.4176 - accuracy: 0.9172 - val_loss: 0.3927 - val_accuracy: 0.9244\n",
            "Epoch 117/250\n",
            "1875/1875 [==============================] - 21s 11ms/step - loss: 0.4159 - accuracy: 0.9176 - val_loss: 0.3958 - val_accuracy: 0.9239\n",
            "Epoch 118/250\n",
            "1875/1875 [==============================] - 21s 11ms/step - loss: 0.4223 - accuracy: 0.9149 - val_loss: 0.3892 - val_accuracy: 0.9252\n",
            "Epoch 119/250\n",
            "1875/1875 [==============================] - 21s 11ms/step - loss: 0.4186 - accuracy: 0.9167 - val_loss: 0.3965 - val_accuracy: 0.9233\n",
            "Epoch 120/250\n",
            "1875/1875 [==============================] - 21s 11ms/step - loss: 0.4157 - accuracy: 0.9180 - val_loss: 0.4031 - val_accuracy: 0.9185\n",
            "Epoch 121/250\n",
            "1875/1875 [==============================] - 21s 11ms/step - loss: 0.4156 - accuracy: 0.9177 - val_loss: 0.3906 - val_accuracy: 0.9221\n",
            "Epoch 122/250\n",
            "1875/1875 [==============================] - 21s 11ms/step - loss: 0.4174 - accuracy: 0.9165 - val_loss: 0.4270 - val_accuracy: 0.9073\n",
            "Epoch 123/250\n",
            "1875/1875 [==============================] - 21s 11ms/step - loss: 0.4152 - accuracy: 0.9176 - val_loss: 0.3892 - val_accuracy: 0.9249\n",
            "Epoch 124/250\n",
            "1875/1875 [==============================] - 21s 11ms/step - loss: 0.4149 - accuracy: 0.9167 - val_loss: 0.3924 - val_accuracy: 0.9223\n",
            "Epoch 125/250\n",
            "1875/1875 [==============================] - 21s 11ms/step - loss: 0.4142 - accuracy: 0.9161 - val_loss: 0.3983 - val_accuracy: 0.9217\n",
            "Epoch 126/250\n",
            "1875/1875 [==============================] - 21s 11ms/step - loss: 0.4154 - accuracy: 0.9160 - val_loss: 0.4092 - val_accuracy: 0.9150\n",
            "Epoch 127/250\n",
            "1875/1875 [==============================] - 21s 11ms/step - loss: 0.4144 - accuracy: 0.9170 - val_loss: 0.4043 - val_accuracy: 0.9185\n",
            "Epoch 128/250\n",
            "1875/1875 [==============================] - 21s 11ms/step - loss: 0.4139 - accuracy: 0.9174 - val_loss: 0.3884 - val_accuracy: 0.9263\n",
            "Epoch 129/250\n",
            "1875/1875 [==============================] - 21s 11ms/step - loss: 0.4124 - accuracy: 0.9179 - val_loss: 0.3882 - val_accuracy: 0.9236\n",
            "Epoch 130/250\n",
            "1875/1875 [==============================] - 21s 11ms/step - loss: 0.4114 - accuracy: 0.9182 - val_loss: 0.3814 - val_accuracy: 0.9275\n",
            "Epoch 131/250\n",
            "1875/1875 [==============================] - 21s 11ms/step - loss: 0.4118 - accuracy: 0.9172 - val_loss: 0.4045 - val_accuracy: 0.9185\n",
            "Epoch 132/250\n",
            "1875/1875 [==============================] - 21s 11ms/step - loss: 0.4113 - accuracy: 0.9186 - val_loss: 0.3931 - val_accuracy: 0.9196\n",
            "Epoch 133/250\n",
            "1875/1875 [==============================] - 21s 11ms/step - loss: 0.4123 - accuracy: 0.9176 - val_loss: 0.3979 - val_accuracy: 0.9195\n",
            "Epoch 134/250\n",
            "1875/1875 [==============================] - 21s 11ms/step - loss: 0.4115 - accuracy: 0.9182 - val_loss: 0.3882 - val_accuracy: 0.9266\n",
            "Epoch 135/250\n",
            "1875/1875 [==============================] - 21s 11ms/step - loss: 0.4115 - accuracy: 0.9177 - val_loss: 0.3952 - val_accuracy: 0.9222\n",
            "Epoch 136/250\n",
            "1875/1875 [==============================] - 21s 11ms/step - loss: 0.4121 - accuracy: 0.9183 - val_loss: 0.3952 - val_accuracy: 0.9229\n",
            "Epoch 137/250\n",
            "1875/1875 [==============================] - 21s 11ms/step - loss: 0.4107 - accuracy: 0.9169 - val_loss: 0.3816 - val_accuracy: 0.9264\n",
            "Epoch 138/250\n",
            "1875/1875 [==============================] - 21s 11ms/step - loss: 0.4084 - accuracy: 0.9180 - val_loss: 0.3875 - val_accuracy: 0.9224\n",
            "Epoch 139/250\n",
            "1875/1875 [==============================] - 21s 11ms/step - loss: 0.4070 - accuracy: 0.9183 - val_loss: 0.3906 - val_accuracy: 0.9209\n",
            "Epoch 140/250\n",
            "1875/1875 [==============================] - 21s 11ms/step - loss: 0.4093 - accuracy: 0.9176 - val_loss: 0.3836 - val_accuracy: 0.9258\n",
            "Epoch 141/250\n",
            "1875/1875 [==============================] - 21s 11ms/step - loss: 0.4091 - accuracy: 0.9173 - val_loss: 0.3916 - val_accuracy: 0.9214\n",
            "Epoch 142/250\n",
            "1875/1875 [==============================] - 21s 11ms/step - loss: 0.4085 - accuracy: 0.9169 - val_loss: 0.3971 - val_accuracy: 0.9216\n",
            "Epoch 143/250\n",
            "1875/1875 [==============================] - 21s 11ms/step - loss: 0.4070 - accuracy: 0.9177 - val_loss: 0.3919 - val_accuracy: 0.9207\n",
            "Epoch 144/250\n",
            "1875/1875 [==============================] - 21s 11ms/step - loss: 0.4087 - accuracy: 0.9183 - val_loss: 0.3906 - val_accuracy: 0.9223\n",
            "Epoch 145/250\n",
            "1875/1875 [==============================] - 21s 11ms/step - loss: 0.4063 - accuracy: 0.9188 - val_loss: 0.4019 - val_accuracy: 0.9183\n",
            "Epoch 146/250\n",
            "1875/1875 [==============================] - 21s 11ms/step - loss: 0.4079 - accuracy: 0.9182 - val_loss: 0.3876 - val_accuracy: 0.9231\n",
            "Epoch 147/250\n",
            "1875/1875 [==============================] - 21s 11ms/step - loss: 0.4057 - accuracy: 0.9174 - val_loss: 0.3858 - val_accuracy: 0.9246\n",
            "Epoch 148/250\n",
            "1875/1875 [==============================] - 21s 11ms/step - loss: 0.4070 - accuracy: 0.9184 - val_loss: 0.3780 - val_accuracy: 0.9255\n",
            "Epoch 149/250\n",
            "1875/1875 [==============================] - 21s 11ms/step - loss: 0.4074 - accuracy: 0.9180 - val_loss: 0.3802 - val_accuracy: 0.9252\n",
            "Epoch 150/250\n",
            "1875/1875 [==============================] - 21s 11ms/step - loss: 0.4044 - accuracy: 0.9182 - val_loss: 0.3809 - val_accuracy: 0.9273\n",
            "Epoch 151/250\n",
            "1875/1875 [==============================] - 21s 11ms/step - loss: 0.4044 - accuracy: 0.9177 - val_loss: 0.3818 - val_accuracy: 0.9236\n",
            "Epoch 152/250\n",
            "1875/1875 [==============================] - 21s 11ms/step - loss: 0.4052 - accuracy: 0.9179 - val_loss: 0.3888 - val_accuracy: 0.9245\n",
            "Epoch 153/250\n",
            "1875/1875 [==============================] - 21s 11ms/step - loss: 0.4039 - accuracy: 0.9195 - val_loss: 0.3853 - val_accuracy: 0.9245\n",
            "Epoch 154/250\n",
            "1875/1875 [==============================] - 21s 11ms/step - loss: 0.4009 - accuracy: 0.9191 - val_loss: 0.3931 - val_accuracy: 0.9216\n",
            "Epoch 155/250\n",
            "1875/1875 [==============================] - 21s 11ms/step - loss: 0.4014 - accuracy: 0.9190 - val_loss: 0.3830 - val_accuracy: 0.9225\n",
            "Epoch 156/250\n",
            "1875/1875 [==============================] - 21s 11ms/step - loss: 0.4052 - accuracy: 0.9180 - val_loss: 0.3775 - val_accuracy: 0.9265\n",
            "Epoch 157/250\n",
            "1875/1875 [==============================] - 21s 11ms/step - loss: 0.4047 - accuracy: 0.9192 - val_loss: 0.3859 - val_accuracy: 0.9226\n",
            "Epoch 158/250\n",
            "1875/1875 [==============================] - 21s 11ms/step - loss: 0.3991 - accuracy: 0.9195 - val_loss: 0.3881 - val_accuracy: 0.9227\n",
            "Epoch 159/250\n",
            "1875/1875 [==============================] - 21s 11ms/step - loss: 0.3995 - accuracy: 0.9194 - val_loss: 0.3887 - val_accuracy: 0.9255\n",
            "Epoch 160/250\n",
            "1875/1875 [==============================] - 21s 11ms/step - loss: 0.4026 - accuracy: 0.9186 - val_loss: 0.3888 - val_accuracy: 0.9216\n",
            "Epoch 161/250\n",
            "1875/1875 [==============================] - 21s 11ms/step - loss: 0.3997 - accuracy: 0.9193 - val_loss: 0.3751 - val_accuracy: 0.9259\n",
            "Epoch 162/250\n",
            "1875/1875 [==============================] - 21s 11ms/step - loss: 0.4002 - accuracy: 0.9197 - val_loss: 0.3831 - val_accuracy: 0.9222\n",
            "Epoch 163/250\n",
            "1875/1875 [==============================] - 21s 11ms/step - loss: 0.3996 - accuracy: 0.9200 - val_loss: 0.3822 - val_accuracy: 0.9246\n",
            "Epoch 164/250\n",
            "1875/1875 [==============================] - 21s 11ms/step - loss: 0.4013 - accuracy: 0.9185 - val_loss: 0.3789 - val_accuracy: 0.9241\n",
            "Epoch 165/250\n",
            "1875/1875 [==============================] - 21s 11ms/step - loss: 0.3977 - accuracy: 0.9203 - val_loss: 0.3937 - val_accuracy: 0.9216\n",
            "Epoch 166/250\n",
            "1875/1875 [==============================] - 21s 11ms/step - loss: 0.3979 - accuracy: 0.9197 - val_loss: 0.3822 - val_accuracy: 0.9236\n",
            "Epoch 167/250\n",
            "1875/1875 [==============================] - 21s 11ms/step - loss: 0.3982 - accuracy: 0.9203 - val_loss: 0.3885 - val_accuracy: 0.9229\n",
            "Epoch 168/250\n",
            "1875/1875 [==============================] - 21s 11ms/step - loss: 0.4004 - accuracy: 0.9185 - val_loss: 0.3785 - val_accuracy: 0.9252\n",
            "Epoch 169/250\n",
            "1875/1875 [==============================] - 21s 11ms/step - loss: 0.3979 - accuracy: 0.9198 - val_loss: 0.3857 - val_accuracy: 0.9271\n",
            "Epoch 170/250\n",
            "1875/1875 [==============================] - 21s 11ms/step - loss: 0.3977 - accuracy: 0.9200 - val_loss: 0.3880 - val_accuracy: 0.9210\n",
            "Epoch 171/250\n",
            "1875/1875 [==============================] - 21s 11ms/step - loss: 0.3964 - accuracy: 0.9191 - val_loss: 0.3808 - val_accuracy: 0.9225\n",
            "Epoch 172/250\n",
            "1875/1875 [==============================] - 21s 11ms/step - loss: 0.3991 - accuracy: 0.9190 - val_loss: 0.3733 - val_accuracy: 0.9241\n",
            "Epoch 173/250\n",
            "1875/1875 [==============================] - 21s 11ms/step - loss: 0.3954 - accuracy: 0.9201 - val_loss: 0.3760 - val_accuracy: 0.9269\n",
            "Epoch 174/250\n",
            "1875/1875 [==============================] - 21s 11ms/step - loss: 0.3980 - accuracy: 0.9194 - val_loss: 0.3863 - val_accuracy: 0.9189\n",
            "Epoch 175/250\n",
            "1875/1875 [==============================] - 21s 11ms/step - loss: 0.3972 - accuracy: 0.9196 - val_loss: 0.3731 - val_accuracy: 0.9238\n",
            "Epoch 176/250\n",
            "1875/1875 [==============================] - 21s 11ms/step - loss: 0.3957 - accuracy: 0.9189 - val_loss: 0.3780 - val_accuracy: 0.9225\n",
            "Epoch 177/250\n",
            "1875/1875 [==============================] - 21s 11ms/step - loss: 0.3983 - accuracy: 0.9195 - val_loss: 0.3935 - val_accuracy: 0.9167\n",
            "Epoch 178/250\n",
            "1875/1875 [==============================] - 21s 11ms/step - loss: 0.3927 - accuracy: 0.9205 - val_loss: 0.3761 - val_accuracy: 0.9239\n",
            "Epoch 179/250\n",
            "1875/1875 [==============================] - 21s 11ms/step - loss: 0.3935 - accuracy: 0.9210 - val_loss: 0.3911 - val_accuracy: 0.9185\n",
            "Epoch 180/250\n",
            "1875/1875 [==============================] - 21s 11ms/step - loss: 0.3937 - accuracy: 0.9194 - val_loss: 0.3854 - val_accuracy: 0.9232\n",
            "Epoch 181/250\n",
            "1875/1875 [==============================] - 21s 11ms/step - loss: 0.3944 - accuracy: 0.9202 - val_loss: 0.3803 - val_accuracy: 0.9240\n",
            "Epoch 182/250\n",
            "1875/1875 [==============================] - 20s 11ms/step - loss: 0.3925 - accuracy: 0.9209 - val_loss: 0.3715 - val_accuracy: 0.9250\n",
            "Epoch 183/250\n",
            "1875/1875 [==============================] - 21s 11ms/step - loss: 0.3933 - accuracy: 0.9206 - val_loss: 0.3836 - val_accuracy: 0.9262\n",
            "Epoch 184/250\n",
            "1875/1875 [==============================] - 21s 11ms/step - loss: 0.3888 - accuracy: 0.9213 - val_loss: 0.3849 - val_accuracy: 0.9228\n",
            "Epoch 185/250\n",
            "1875/1875 [==============================] - 20s 11ms/step - loss: 0.3929 - accuracy: 0.9202 - val_loss: 0.3816 - val_accuracy: 0.9214\n",
            "Epoch 186/250\n",
            "1875/1875 [==============================] - 21s 11ms/step - loss: 0.3928 - accuracy: 0.9197 - val_loss: 0.3776 - val_accuracy: 0.9225\n",
            "Epoch 187/250\n",
            "1875/1875 [==============================] - 21s 11ms/step - loss: 0.3882 - accuracy: 0.9213 - val_loss: 0.3637 - val_accuracy: 0.9282\n",
            "Epoch 188/250\n",
            "1875/1875 [==============================] - 20s 11ms/step - loss: 0.3931 - accuracy: 0.9208 - val_loss: 0.3739 - val_accuracy: 0.9256\n",
            "Epoch 189/250\n",
            "1875/1875 [==============================] - 21s 11ms/step - loss: 0.3916 - accuracy: 0.9213 - val_loss: 0.3817 - val_accuracy: 0.9214\n",
            "Epoch 190/250\n",
            "1875/1875 [==============================] - 21s 11ms/step - loss: 0.3913 - accuracy: 0.9211 - val_loss: 0.3669 - val_accuracy: 0.9282\n",
            "Epoch 191/250\n",
            "1875/1875 [==============================] - 21s 11ms/step - loss: 0.3902 - accuracy: 0.9202 - val_loss: 0.3594 - val_accuracy: 0.9312\n",
            "Epoch 192/250\n",
            "1875/1875 [==============================] - 21s 11ms/step - loss: 0.3914 - accuracy: 0.9196 - val_loss: 0.3744 - val_accuracy: 0.9240\n",
            "Epoch 193/250\n",
            "1875/1875 [==============================] - 21s 11ms/step - loss: 0.3911 - accuracy: 0.9199 - val_loss: 0.3652 - val_accuracy: 0.9276\n",
            "Epoch 194/250\n",
            "1875/1875 [==============================] - 21s 11ms/step - loss: 0.3847 - accuracy: 0.9218 - val_loss: 0.3912 - val_accuracy: 0.9185\n",
            "Epoch 195/250\n",
            "1875/1875 [==============================] - 21s 11ms/step - loss: 0.3890 - accuracy: 0.9215 - val_loss: 0.3755 - val_accuracy: 0.9246\n",
            "Epoch 196/250\n",
            "1875/1875 [==============================] - 21s 11ms/step - loss: 0.3921 - accuracy: 0.9206 - val_loss: 0.3757 - val_accuracy: 0.9217\n",
            "Epoch 197/250\n",
            "1875/1875 [==============================] - 21s 11ms/step - loss: 0.3853 - accuracy: 0.9218 - val_loss: 0.3741 - val_accuracy: 0.9255\n",
            "Epoch 198/250\n",
            "1875/1875 [==============================] - 21s 11ms/step - loss: 0.3880 - accuracy: 0.9208 - val_loss: 0.3815 - val_accuracy: 0.9205\n",
            "Epoch 199/250\n",
            "1875/1875 [==============================] - 21s 11ms/step - loss: 0.3904 - accuracy: 0.9196 - val_loss: 0.3704 - val_accuracy: 0.9258\n",
            "Epoch 200/250\n",
            "1875/1875 [==============================] - 21s 11ms/step - loss: 0.3885 - accuracy: 0.9216 - val_loss: 0.3770 - val_accuracy: 0.9258\n",
            "Epoch 201/250\n",
            "1875/1875 [==============================] - 21s 11ms/step - loss: 0.3874 - accuracy: 0.9199 - val_loss: 0.3830 - val_accuracy: 0.9190\n",
            "Epoch 202/250\n",
            "1875/1875 [==============================] - 21s 11ms/step - loss: 0.3863 - accuracy: 0.9208 - val_loss: 0.3825 - val_accuracy: 0.9215\n",
            "Epoch 203/250\n",
            "1875/1875 [==============================] - 21s 11ms/step - loss: 0.3870 - accuracy: 0.9211 - val_loss: 0.3730 - val_accuracy: 0.9237\n",
            "Epoch 204/250\n",
            "1875/1875 [==============================] - 21s 11ms/step - loss: 0.3856 - accuracy: 0.9217 - val_loss: 0.3624 - val_accuracy: 0.9280\n",
            "Epoch 205/250\n",
            "1875/1875 [==============================] - 21s 11ms/step - loss: 0.3846 - accuracy: 0.9214 - val_loss: 0.3818 - val_accuracy: 0.9200\n",
            "Epoch 206/250\n",
            "1875/1875 [==============================] - 21s 11ms/step - loss: 0.3854 - accuracy: 0.9216 - val_loss: 0.3696 - val_accuracy: 0.9261\n",
            "Epoch 207/250\n",
            "1875/1875 [==============================] - 21s 11ms/step - loss: 0.3855 - accuracy: 0.9218 - val_loss: 0.3614 - val_accuracy: 0.9283\n",
            "Epoch 208/250\n",
            "1875/1875 [==============================] - 21s 11ms/step - loss: 0.3825 - accuracy: 0.9217 - val_loss: 0.3682 - val_accuracy: 0.9263\n",
            "Epoch 209/250\n",
            "1875/1875 [==============================] - 21s 11ms/step - loss: 0.3850 - accuracy: 0.9201 - val_loss: 0.3613 - val_accuracy: 0.9270\n",
            "Epoch 210/250\n",
            "1875/1875 [==============================] - 21s 11ms/step - loss: 0.3841 - accuracy: 0.9211 - val_loss: 0.3645 - val_accuracy: 0.9294\n",
            "Epoch 211/250\n",
            "1875/1875 [==============================] - 21s 11ms/step - loss: 0.3842 - accuracy: 0.9215 - val_loss: 0.3635 - val_accuracy: 0.9307\n",
            "Epoch 212/250\n",
            "1875/1875 [==============================] - 21s 11ms/step - loss: 0.3830 - accuracy: 0.9228 - val_loss: 0.3668 - val_accuracy: 0.9244\n",
            "Epoch 213/250\n",
            "1875/1875 [==============================] - 21s 11ms/step - loss: 0.3838 - accuracy: 0.9216 - val_loss: 0.3535 - val_accuracy: 0.9308\n",
            "Epoch 214/250\n",
            "1875/1875 [==============================] - 21s 11ms/step - loss: 0.3893 - accuracy: 0.9189 - val_loss: 0.3656 - val_accuracy: 0.9273\n",
            "Epoch 215/250\n",
            "1875/1875 [==============================] - 21s 11ms/step - loss: 0.3868 - accuracy: 0.9211 - val_loss: 0.3665 - val_accuracy: 0.9278\n",
            "Epoch 216/250\n",
            "1875/1875 [==============================] - 21s 11ms/step - loss: 0.3854 - accuracy: 0.9201 - val_loss: 0.3581 - val_accuracy: 0.9289\n",
            "Epoch 217/250\n",
            "1875/1875 [==============================] - 21s 11ms/step - loss: 0.3865 - accuracy: 0.9198 - val_loss: 0.3567 - val_accuracy: 0.9309\n",
            "Epoch 218/250\n",
            "1875/1875 [==============================] - 21s 11ms/step - loss: 0.3791 - accuracy: 0.9225 - val_loss: 0.3723 - val_accuracy: 0.9222\n",
            "Epoch 219/250\n",
            "1875/1875 [==============================] - 21s 11ms/step - loss: 0.3818 - accuracy: 0.9214 - val_loss: 0.3712 - val_accuracy: 0.9214\n",
            "Epoch 220/250\n",
            "1875/1875 [==============================] - 21s 11ms/step - loss: 0.3809 - accuracy: 0.9224 - val_loss: 0.3635 - val_accuracy: 0.9273\n",
            "Epoch 221/250\n",
            "1875/1875 [==============================] - 21s 11ms/step - loss: 0.3808 - accuracy: 0.9209 - val_loss: 0.3654 - val_accuracy: 0.9253\n",
            "Epoch 222/250\n",
            "1875/1875 [==============================] - 21s 11ms/step - loss: 0.3822 - accuracy: 0.9207 - val_loss: 0.3563 - val_accuracy: 0.9284\n",
            "Epoch 223/250\n",
            "1875/1875 [==============================] - 21s 11ms/step - loss: 0.3803 - accuracy: 0.9220 - val_loss: 0.3686 - val_accuracy: 0.9221\n",
            "Epoch 224/250\n",
            "1875/1875 [==============================] - 21s 11ms/step - loss: 0.3814 - accuracy: 0.9222 - val_loss: 0.3679 - val_accuracy: 0.9245\n",
            "Epoch 225/250\n",
            "1875/1875 [==============================] - 21s 11ms/step - loss: 0.3792 - accuracy: 0.9227 - val_loss: 0.3704 - val_accuracy: 0.9241\n",
            "Epoch 226/250\n",
            "1875/1875 [==============================] - 21s 11ms/step - loss: 0.3808 - accuracy: 0.9215 - val_loss: 0.3601 - val_accuracy: 0.9256\n",
            "Epoch 227/250\n",
            "1875/1875 [==============================] - 21s 11ms/step - loss: 0.3827 - accuracy: 0.9198 - val_loss: 0.3590 - val_accuracy: 0.9287\n",
            "Epoch 228/250\n",
            "1875/1875 [==============================] - 21s 11ms/step - loss: 0.3823 - accuracy: 0.9214 - val_loss: 0.3598 - val_accuracy: 0.9280\n",
            "Epoch 229/250\n",
            "1875/1875 [==============================] - 21s 11ms/step - loss: 0.3838 - accuracy: 0.9216 - val_loss: 0.3653 - val_accuracy: 0.9254\n",
            "Epoch 230/250\n",
            "1875/1875 [==============================] - 21s 11ms/step - loss: 0.3816 - accuracy: 0.9219 - val_loss: 0.3613 - val_accuracy: 0.9262\n",
            "Epoch 231/250\n",
            "1875/1875 [==============================] - 21s 11ms/step - loss: 0.3805 - accuracy: 0.9229 - val_loss: 0.3692 - val_accuracy: 0.9239\n",
            "Epoch 232/250\n",
            "1875/1875 [==============================] - 21s 11ms/step - loss: 0.3788 - accuracy: 0.9232 - val_loss: 0.3626 - val_accuracy: 0.9257\n",
            "Epoch 233/250\n",
            "1875/1875 [==============================] - 21s 11ms/step - loss: 0.3809 - accuracy: 0.9218 - val_loss: 0.3563 - val_accuracy: 0.9289\n",
            "Epoch 234/250\n",
            "1875/1875 [==============================] - 21s 11ms/step - loss: 0.3797 - accuracy: 0.9230 - val_loss: 0.3511 - val_accuracy: 0.9311\n",
            "Epoch 235/250\n",
            "1875/1875 [==============================] - 21s 11ms/step - loss: 0.3813 - accuracy: 0.9216 - val_loss: 0.3642 - val_accuracy: 0.9262\n",
            "Epoch 236/250\n",
            "1875/1875 [==============================] - 21s 11ms/step - loss: 0.3761 - accuracy: 0.9235 - val_loss: 0.3691 - val_accuracy: 0.9266\n",
            "Epoch 237/250\n",
            "1875/1875 [==============================] - 21s 11ms/step - loss: 0.3793 - accuracy: 0.9229 - val_loss: 0.3752 - val_accuracy: 0.9227\n",
            "Epoch 238/250\n",
            "1875/1875 [==============================] - 21s 11ms/step - loss: 0.3764 - accuracy: 0.9224 - val_loss: 0.3684 - val_accuracy: 0.9223\n",
            "Epoch 239/250\n",
            "1875/1875 [==============================] - 21s 11ms/step - loss: 0.3770 - accuracy: 0.9241 - val_loss: 0.3624 - val_accuracy: 0.9243\n",
            "Epoch 240/250\n",
            "1875/1875 [==============================] - 21s 11ms/step - loss: 0.3771 - accuracy: 0.9240 - val_loss: 0.3659 - val_accuracy: 0.9267\n",
            "Epoch 241/250\n",
            "1875/1875 [==============================] - 21s 11ms/step - loss: 0.3789 - accuracy: 0.9221 - val_loss: 0.3633 - val_accuracy: 0.9273\n",
            "Epoch 242/250\n",
            "1875/1875 [==============================] - 21s 11ms/step - loss: 0.3763 - accuracy: 0.9237 - val_loss: 0.3659 - val_accuracy: 0.9259\n",
            "Epoch 243/250\n",
            "1875/1875 [==============================] - 21s 11ms/step - loss: 0.3762 - accuracy: 0.9232 - val_loss: 0.3564 - val_accuracy: 0.9282\n",
            "Epoch 244/250\n",
            "1875/1875 [==============================] - 21s 11ms/step - loss: 0.3763 - accuracy: 0.9216 - val_loss: 0.3623 - val_accuracy: 0.9273\n",
            "Epoch 245/250\n",
            "1875/1875 [==============================] - 21s 11ms/step - loss: 0.3756 - accuracy: 0.9240 - val_loss: 0.3632 - val_accuracy: 0.9273\n",
            "Epoch 246/250\n",
            "1875/1875 [==============================] - 21s 11ms/step - loss: 0.3766 - accuracy: 0.9221 - val_loss: 0.3661 - val_accuracy: 0.9231\n",
            "Epoch 247/250\n",
            "1875/1875 [==============================] - 21s 11ms/step - loss: 0.3765 - accuracy: 0.9235 - val_loss: 0.3583 - val_accuracy: 0.9264\n",
            "Epoch 248/250\n",
            "1875/1875 [==============================] - 21s 11ms/step - loss: 0.3754 - accuracy: 0.9229 - val_loss: 0.3763 - val_accuracy: 0.9225\n",
            "Epoch 249/250\n",
            "1875/1875 [==============================] - 21s 11ms/step - loss: 0.3774 - accuracy: 0.9223 - val_loss: 0.3699 - val_accuracy: 0.9246\n",
            "Epoch 250/250\n",
            "1875/1875 [==============================] - 21s 11ms/step - loss: 0.3751 - accuracy: 0.9233 - val_loss: 0.3609 - val_accuracy: 0.9269\n",
            "CPU times: user 2h 13min 45s, sys: 4min 20s, total: 2h 18min 5s\n",
            "Wall time: 1h 27min 3s\n"
          ],
          "name": "stdout"
        }
      ]
    },
    {
      "cell_type": "code",
      "metadata": {
        "id": "a3m13JvBS9A8",
        "colab_type": "code",
        "colab": {
          "base_uri": "https://localhost:8080/",
          "height": 282
        },
        "outputId": "d6031ea3-f6b5-47f4-af0e-50cad313d384"
      },
      "source": [
        "plt.plot(r.history['loss'], label = 'Training Loss')\n",
        "plt.plot(r.history['val_loss'], label = 'Validation Loss')\n",
        "plt.legend()"
      ],
      "execution_count": 44,
      "outputs": [
        {
          "output_type": "execute_result",
          "data": {
            "text/plain": [
              "<matplotlib.legend.Legend at 0x7f024e1742b0>"
            ]
          },
          "metadata": {
            "tags": []
          },
          "execution_count": 44
        },
        {
          "output_type": "display_data",
          "data": {
            "image/png": "[encoded data removed]",
            "text/plain": [
              "<Figure size 432x288 with 1 Axes>"
            ]
          },
          "metadata": {
            "tags": []
          }
        }
      ]
    },
    {
      "cell_type": "code",
      "metadata": {
        "id": "jOlfSwBhTB7_",
        "colab_type": "code",
        "colab": {
          "base_uri": "https://localhost:8080/",
          "height": 282
        },
        "outputId": "0a6072b3-60bc-4af7-d262-e62b87bd843f"
      },
      "source": [
        "plt.plot(r.history['accuracy'], label = 'Training Accuracy')\n",
        "plt.plot(r.history['val_accuracy'], label = 'Validation Accuracy')\n",
        "plt.legend()"
      ],
      "execution_count": 45,
      "outputs": [
        {
          "output_type": "execute_result",
          "data": {
            "text/plain": [
              "<matplotlib.legend.Legend at 0x7f024e157be0>"
            ]
          },
          "metadata": {
            "tags": []
          },
          "execution_count": 45
        },
        {
          "output_type": "display_data",
          "data": {
            "image/png": "[encoded data removed]",
            "text/plain": [
              "<Figure size 432x288 with 1 Axes>"
            ]
          },
          "metadata": {
            "tags": []
          }
        }
      ]
    },
    {
      "cell_type": "code",
      "metadata": {
        "id": "1dFNs-RkYWCO",
        "colab_type": "code",
        "colab": {}
      },
      "source": [
        ""
      ],
      "execution_count": 0,
      "outputs": []
    }
  ]
}